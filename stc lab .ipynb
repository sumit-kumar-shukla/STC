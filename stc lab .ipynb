{
 "cells": [
  {
   "cell_type": "markdown",
   "id": "49a5a839",
   "metadata": {},
   "source": [
    "### <center> COMPUTER LAB REPORT </center> \n",
    "### <center> URGENT : <code> NEED ANTI VIRUS IN ALL WORKING PCS </code></center><br>"
   ]
  },
  {
   "cell_type": "code",
   "execution_count": 2,
   "id": "0343506f",
   "metadata": {},
   "outputs": [],
   "source": [
    "df = pd.read_csv('STC LAB SURVEY.csv', header=2)"
   ]
  },
  {
   "cell_type": "code",
   "execution_count": 3,
   "id": "0beab114",
   "metadata": {},
   "outputs": [
    {
     "data": {
      "text/html": [
       "<div>\n",
       "<style scoped>\n",
       "    .dataframe tbody tr th:only-of-type {\n",
       "        vertical-align: middle;\n",
       "    }\n",
       "\n",
       "    .dataframe tbody tr th {\n",
       "        vertical-align: top;\n",
       "    }\n",
       "\n",
       "    .dataframe thead th {\n",
       "        text-align: right;\n",
       "    }\n",
       "</style>\n",
       "<table border=\"1\" class=\"dataframe\">\n",
       "  <thead>\n",
       "    <tr style=\"text-align: right;\">\n",
       "      <th></th>\n",
       "      <th>S.NO</th>\n",
       "      <th>PC NAME</th>\n",
       "      <th>WIFI</th>\n",
       "      <th>WINDOWS</th>\n",
       "      <th>PYTHON</th>\n",
       "      <th>C/C++</th>\n",
       "      <th>VISUAL STUDIO</th>\n",
       "      <th>LINUX</th>\n",
       "      <th>PHP/XAMPP</th>\n",
       "      <th>OFFICE</th>\n",
       "      <th>MYSQL</th>\n",
       "      <th>LAB</th>\n",
       "      <th>STATUS</th>\n",
       "      <th>REMARKS ( BATTRRY UPDATION )</th>\n",
       "    </tr>\n",
       "  </thead>\n",
       "  <tbody>\n",
       "    <tr>\n",
       "      <th>0</th>\n",
       "      <td>1</td>\n",
       "      <td>PG 2</td>\n",
       "      <td>NO</td>\n",
       "      <td>WIN 8</td>\n",
       "      <td>YES</td>\n",
       "      <td>YES</td>\n",
       "      <td>NO</td>\n",
       "      <td>YES</td>\n",
       "      <td>NO</td>\n",
       "      <td>2007</td>\n",
       "      <td>NO</td>\n",
       "      <td>LAB1</td>\n",
       "      <td>WORKING</td>\n",
       "      <td>NaN</td>\n",
       "    </tr>\n",
       "    <tr>\n",
       "      <th>1</th>\n",
       "      <td>2</td>\n",
       "      <td>UG 23</td>\n",
       "      <td>NO</td>\n",
       "      <td>WIN 7</td>\n",
       "      <td>NO</td>\n",
       "      <td>NO</td>\n",
       "      <td>NO</td>\n",
       "      <td>NO</td>\n",
       "      <td>NO</td>\n",
       "      <td>2007</td>\n",
       "      <td>NO</td>\n",
       "      <td>LAB1</td>\n",
       "      <td>WORKING</td>\n",
       "      <td>SWITCHES OFF OFTEN</td>\n",
       "    </tr>\n",
       "    <tr>\n",
       "      <th>2</th>\n",
       "      <td>3</td>\n",
       "      <td>UG 25</td>\n",
       "      <td>NO</td>\n",
       "      <td>WIN 7</td>\n",
       "      <td>YES</td>\n",
       "      <td>YES</td>\n",
       "      <td>NO</td>\n",
       "      <td>YES</td>\n",
       "      <td>NO</td>\n",
       "      <td>2007</td>\n",
       "      <td>NO</td>\n",
       "      <td>LAB1</td>\n",
       "      <td>WORKING</td>\n",
       "      <td>CLOCK BEHIND, NO ACCESS TO DATA</td>\n",
       "    </tr>\n",
       "    <tr>\n",
       "      <th>3</th>\n",
       "      <td>4</td>\n",
       "      <td>UG 11</td>\n",
       "      <td>YES</td>\n",
       "      <td>WIN 7</td>\n",
       "      <td>NO</td>\n",
       "      <td>YES</td>\n",
       "      <td>NO</td>\n",
       "      <td>YES</td>\n",
       "      <td>NO</td>\n",
       "      <td>2007</td>\n",
       "      <td>NO</td>\n",
       "      <td>LAB1</td>\n",
       "      <td>WORKING</td>\n",
       "      <td>NaN</td>\n",
       "    </tr>\n",
       "    <tr>\n",
       "      <th>4</th>\n",
       "      <td>5</td>\n",
       "      <td>UG 7</td>\n",
       "      <td>NO</td>\n",
       "      <td>WIN 7</td>\n",
       "      <td>NO</td>\n",
       "      <td>YES</td>\n",
       "      <td>NO</td>\n",
       "      <td>YES</td>\n",
       "      <td>NO</td>\n",
       "      <td>2007</td>\n",
       "      <td>NO</td>\n",
       "      <td>LAB1</td>\n",
       "      <td>WORKING</td>\n",
       "      <td>NaN</td>\n",
       "    </tr>\n",
       "  </tbody>\n",
       "</table>\n",
       "</div>"
      ],
      "text/plain": [
       "   S.NO  PC NAME WIFI WINDOWS PYTHON C/C++ VISUAL STUDIO LINUX PHP/XAMPP  \\\n",
       "0      1    PG 2   NO   WIN 8    YES   YES            NO   YES        NO   \n",
       "1      2   UG 23   NO   WIN 7     NO    NO            NO    NO        NO   \n",
       "2      3   UG 25   NO   WIN 7    YES   YES            NO   YES        NO   \n",
       "3      4   UG 11  YES   WIN 7     NO   YES            NO   YES        NO   \n",
       "4      5    UG 7   NO   WIN 7     NO   YES            NO   YES        NO   \n",
       "\n",
       "   OFFICE MYSQL   LAB   STATUS    REMARKS ( BATTRRY UPDATION )   \n",
       "0    2007    NO  LAB1  WORKING                              NaN  \n",
       "1    2007    NO  LAB1  WORKING               SWITCHES OFF OFTEN  \n",
       "2    2007    NO  LAB1  WORKING  CLOCK BEHIND, NO ACCESS TO DATA  \n",
       "3    2007    NO  LAB1  WORKING                              NaN  \n",
       "4    2007    NO  LAB1  WORKING                              NaN  "
      ]
     },
     "execution_count": 3,
     "metadata": {},
     "output_type": "execute_result"
    }
   ],
   "source": [
    "df.head()"
   ]
  },
  {
   "cell_type": "markdown",
   "id": "597c5e81",
   "metadata": {},
   "source": [
    "### Total No of systems in lab 1 and lab 2"
   ]
  },
  {
   "cell_type": "code",
   "execution_count": 4,
   "id": "4ab36ae1",
   "metadata": {},
   "outputs": [
    {
     "data": {
      "text/plain": [
       "LAB 2    31\n",
       "LAB1     26\n",
       "Name: LAB, dtype: int64"
      ]
     },
     "execution_count": 4,
     "metadata": {},
     "output_type": "execute_result"
    }
   ],
   "source": [
    "df['LAB'].value_counts()"
   ]
  },
  {
   "cell_type": "markdown",
   "id": "ac377e39",
   "metadata": {},
   "source": [
    "### status of pc working"
   ]
  },
  {
   "cell_type": "code",
   "execution_count": 46,
   "id": "315435ff",
   "metadata": {},
   "outputs": [
    {
     "data": {
      "text/html": [
       "<div>\n",
       "<style scoped>\n",
       "    .dataframe tbody tr th:only-of-type {\n",
       "        vertical-align: middle;\n",
       "    }\n",
       "\n",
       "    .dataframe tbody tr th {\n",
       "        vertical-align: top;\n",
       "    }\n",
       "\n",
       "    .dataframe thead th {\n",
       "        text-align: right;\n",
       "    }\n",
       "</style>\n",
       "<table border=\"1\" class=\"dataframe\">\n",
       "  <thead>\n",
       "    <tr style=\"text-align: right;\">\n",
       "      <th></th>\n",
       "      <th>WORKING</th>\n",
       "      <th>NOT WORKING</th>\n",
       "    </tr>\n",
       "  </thead>\n",
       "  <tbody>\n",
       "    <tr>\n",
       "      <th>STATUS</th>\n",
       "      <td>45</td>\n",
       "      <td>12</td>\n",
       "    </tr>\n",
       "  </tbody>\n",
       "</table>\n",
       "</div>"
      ],
      "text/plain": [
       "        WORKING  NOT WORKING\n",
       "STATUS       45           12"
      ]
     },
     "execution_count": 46,
     "metadata": {},
     "output_type": "execute_result"
    }
   ],
   "source": [
    "pd.DataFrame(df['STATUS'].value_counts()).T"
   ]
  },
  {
   "cell_type": "code",
   "execution_count": 25,
   "id": "0bbc8065",
   "metadata": {},
   "outputs": [
    {
     "data": {
      "application/vnd.plotly.v1+json": {
       "config": {
        "plotlyServerURL": "https://plot.ly"
       },
       "data": [
        {
         "alignmentgroup": "True",
         "hovertemplate": "STATUS=%{x}<br>LAB=%{y}<extra></extra>",
         "legendgroup": "",
         "marker": {
          "color": "#636efa"
         },
         "name": "",
         "offsetgroup": "",
         "orientation": "v",
         "showlegend": false,
         "textposition": "auto",
         "type": "bar",
         "x": [
          "WORKING",
          "WORKING",
          "WORKING",
          "WORKING",
          "WORKING",
          "WORKING",
          "WORKING",
          "WORKING",
          "WORKING",
          "WORKING",
          "WORKING",
          "WORKING",
          "WORKING",
          "WORKING",
          "WORKING",
          "WORKING",
          "WORKING",
          "WORKING",
          "WORKING",
          "WORKING",
          "WORKING",
          "WORKING",
          "WORKING",
          "WORKING",
          "WORKING",
          "WORKING",
          "WORKING",
          "WORKING",
          "WORKING",
          "WORKING",
          "NOT WORKING",
          "WORKING",
          "WORKING",
          "WORKING",
          "WORKING",
          "WORKING",
          "WORKING",
          "WORKING",
          "WORKING",
          "WORKING",
          "WORKING",
          "WORKING",
          "NOT WORKING",
          "WORKING",
          "WORKING",
          "WORKING",
          "WORKING",
          "NOT WORKING",
          "NOT WORKING",
          "NOT WORKING",
          "NOT WORKING",
          "NOT WORKING",
          "NOT WORKING",
          "NOT WORKING",
          "NOT WORKING",
          "NOT WORKING",
          "NOT WORKING"
         ],
         "xaxis": "x",
         "y": [
          "LAB1",
          "LAB1",
          "LAB1",
          "LAB1",
          "LAB1",
          "LAB1",
          "LAB 2",
          "LAB1",
          "LAB1",
          "LAB1",
          "LAB1",
          "LAB1",
          "LAB1",
          "LAB1",
          "LAB1",
          "LAB1",
          "LAB1",
          "LAB1",
          "LAB1",
          "LAB1",
          "LAB1",
          "LAB1",
          "LAB1",
          "LAB1",
          "LAB1",
          "LAB1",
          "LAB1",
          "LAB 2",
          "LAB 2",
          "LAB 2",
          "LAB 2",
          "LAB 2",
          "LAB 2",
          "LAB 2",
          "LAB 2",
          "LAB 2",
          "LAB 2",
          "LAB 2",
          "LAB 2",
          "LAB 2",
          "LAB 2",
          "LAB 2",
          "LAB 2",
          "LAB 2",
          "LAB 2",
          "LAB 2",
          "LAB 2",
          "LAB 2",
          "LAB 2",
          "LAB 2",
          "LAB 2",
          "LAB 2",
          "LAB 2",
          "LAB 2",
          "LAB 2",
          "LAB 2",
          "LAB 2"
         ],
         "yaxis": "y"
        }
       ],
       "layout": {
        "barmode": "relative",
        "legend": {
         "tracegroupgap": 0
        },
        "margin": {
         "t": 60
        },
        "template": {
         "data": {
          "bar": [
           {
            "error_x": {
             "color": "#2a3f5f"
            },
            "error_y": {
             "color": "#2a3f5f"
            },
            "marker": {
             "line": {
              "color": "#E5ECF6",
              "width": 0.5
             }
            },
            "type": "bar"
           }
          ],
          "barpolar": [
           {
            "marker": {
             "line": {
              "color": "#E5ECF6",
              "width": 0.5
             }
            },
            "type": "barpolar"
           }
          ],
          "carpet": [
           {
            "aaxis": {
             "endlinecolor": "#2a3f5f",
             "gridcolor": "white",
             "linecolor": "white",
             "minorgridcolor": "white",
             "startlinecolor": "#2a3f5f"
            },
            "baxis": {
             "endlinecolor": "#2a3f5f",
             "gridcolor": "white",
             "linecolor": "white",
             "minorgridcolor": "white",
             "startlinecolor": "#2a3f5f"
            },
            "type": "carpet"
           }
          ],
          "choropleth": [
           {
            "colorbar": {
             "outlinewidth": 0,
             "ticks": ""
            },
            "type": "choropleth"
           }
          ],
          "contour": [
           {
            "colorbar": {
             "outlinewidth": 0,
             "ticks": ""
            },
            "colorscale": [
             [
              0,
              "#0d0887"
             ],
             [
              0.1111111111111111,
              "#46039f"
             ],
             [
              0.2222222222222222,
              "#7201a8"
             ],
             [
              0.3333333333333333,
              "#9c179e"
             ],
             [
              0.4444444444444444,
              "#bd3786"
             ],
             [
              0.5555555555555556,
              "#d8576b"
             ],
             [
              0.6666666666666666,
              "#ed7953"
             ],
             [
              0.7777777777777778,
              "#fb9f3a"
             ],
             [
              0.8888888888888888,
              "#fdca26"
             ],
             [
              1,
              "#f0f921"
             ]
            ],
            "type": "contour"
           }
          ],
          "contourcarpet": [
           {
            "colorbar": {
             "outlinewidth": 0,
             "ticks": ""
            },
            "type": "contourcarpet"
           }
          ],
          "heatmap": [
           {
            "colorbar": {
             "outlinewidth": 0,
             "ticks": ""
            },
            "colorscale": [
             [
              0,
              "#0d0887"
             ],
             [
              0.1111111111111111,
              "#46039f"
             ],
             [
              0.2222222222222222,
              "#7201a8"
             ],
             [
              0.3333333333333333,
              "#9c179e"
             ],
             [
              0.4444444444444444,
              "#bd3786"
             ],
             [
              0.5555555555555556,
              "#d8576b"
             ],
             [
              0.6666666666666666,
              "#ed7953"
             ],
             [
              0.7777777777777778,
              "#fb9f3a"
             ],
             [
              0.8888888888888888,
              "#fdca26"
             ],
             [
              1,
              "#f0f921"
             ]
            ],
            "type": "heatmap"
           }
          ],
          "heatmapgl": [
           {
            "colorbar": {
             "outlinewidth": 0,
             "ticks": ""
            },
            "colorscale": [
             [
              0,
              "#0d0887"
             ],
             [
              0.1111111111111111,
              "#46039f"
             ],
             [
              0.2222222222222222,
              "#7201a8"
             ],
             [
              0.3333333333333333,
              "#9c179e"
             ],
             [
              0.4444444444444444,
              "#bd3786"
             ],
             [
              0.5555555555555556,
              "#d8576b"
             ],
             [
              0.6666666666666666,
              "#ed7953"
             ],
             [
              0.7777777777777778,
              "#fb9f3a"
             ],
             [
              0.8888888888888888,
              "#fdca26"
             ],
             [
              1,
              "#f0f921"
             ]
            ],
            "type": "heatmapgl"
           }
          ],
          "histogram": [
           {
            "marker": {
             "colorbar": {
              "outlinewidth": 0,
              "ticks": ""
             }
            },
            "type": "histogram"
           }
          ],
          "histogram2d": [
           {
            "colorbar": {
             "outlinewidth": 0,
             "ticks": ""
            },
            "colorscale": [
             [
              0,
              "#0d0887"
             ],
             [
              0.1111111111111111,
              "#46039f"
             ],
             [
              0.2222222222222222,
              "#7201a8"
             ],
             [
              0.3333333333333333,
              "#9c179e"
             ],
             [
              0.4444444444444444,
              "#bd3786"
             ],
             [
              0.5555555555555556,
              "#d8576b"
             ],
             [
              0.6666666666666666,
              "#ed7953"
             ],
             [
              0.7777777777777778,
              "#fb9f3a"
             ],
             [
              0.8888888888888888,
              "#fdca26"
             ],
             [
              1,
              "#f0f921"
             ]
            ],
            "type": "histogram2d"
           }
          ],
          "histogram2dcontour": [
           {
            "colorbar": {
             "outlinewidth": 0,
             "ticks": ""
            },
            "colorscale": [
             [
              0,
              "#0d0887"
             ],
             [
              0.1111111111111111,
              "#46039f"
             ],
             [
              0.2222222222222222,
              "#7201a8"
             ],
             [
              0.3333333333333333,
              "#9c179e"
             ],
             [
              0.4444444444444444,
              "#bd3786"
             ],
             [
              0.5555555555555556,
              "#d8576b"
             ],
             [
              0.6666666666666666,
              "#ed7953"
             ],
             [
              0.7777777777777778,
              "#fb9f3a"
             ],
             [
              0.8888888888888888,
              "#fdca26"
             ],
             [
              1,
              "#f0f921"
             ]
            ],
            "type": "histogram2dcontour"
           }
          ],
          "mesh3d": [
           {
            "colorbar": {
             "outlinewidth": 0,
             "ticks": ""
            },
            "type": "mesh3d"
           }
          ],
          "parcoords": [
           {
            "line": {
             "colorbar": {
              "outlinewidth": 0,
              "ticks": ""
             }
            },
            "type": "parcoords"
           }
          ],
          "pie": [
           {
            "automargin": true,
            "type": "pie"
           }
          ],
          "scatter": [
           {
            "marker": {
             "colorbar": {
              "outlinewidth": 0,
              "ticks": ""
             }
            },
            "type": "scatter"
           }
          ],
          "scatter3d": [
           {
            "line": {
             "colorbar": {
              "outlinewidth": 0,
              "ticks": ""
             }
            },
            "marker": {
             "colorbar": {
              "outlinewidth": 0,
              "ticks": ""
             }
            },
            "type": "scatter3d"
           }
          ],
          "scattercarpet": [
           {
            "marker": {
             "colorbar": {
              "outlinewidth": 0,
              "ticks": ""
             }
            },
            "type": "scattercarpet"
           }
          ],
          "scattergeo": [
           {
            "marker": {
             "colorbar": {
              "outlinewidth": 0,
              "ticks": ""
             }
            },
            "type": "scattergeo"
           }
          ],
          "scattergl": [
           {
            "marker": {
             "colorbar": {
              "outlinewidth": 0,
              "ticks": ""
             }
            },
            "type": "scattergl"
           }
          ],
          "scattermapbox": [
           {
            "marker": {
             "colorbar": {
              "outlinewidth": 0,
              "ticks": ""
             }
            },
            "type": "scattermapbox"
           }
          ],
          "scatterpolar": [
           {
            "marker": {
             "colorbar": {
              "outlinewidth": 0,
              "ticks": ""
             }
            },
            "type": "scatterpolar"
           }
          ],
          "scatterpolargl": [
           {
            "marker": {
             "colorbar": {
              "outlinewidth": 0,
              "ticks": ""
             }
            },
            "type": "scatterpolargl"
           }
          ],
          "scatterternary": [
           {
            "marker": {
             "colorbar": {
              "outlinewidth": 0,
              "ticks": ""
             }
            },
            "type": "scatterternary"
           }
          ],
          "surface": [
           {
            "colorbar": {
             "outlinewidth": 0,
             "ticks": ""
            },
            "colorscale": [
             [
              0,
              "#0d0887"
             ],
             [
              0.1111111111111111,
              "#46039f"
             ],
             [
              0.2222222222222222,
              "#7201a8"
             ],
             [
              0.3333333333333333,
              "#9c179e"
             ],
             [
              0.4444444444444444,
              "#bd3786"
             ],
             [
              0.5555555555555556,
              "#d8576b"
             ],
             [
              0.6666666666666666,
              "#ed7953"
             ],
             [
              0.7777777777777778,
              "#fb9f3a"
             ],
             [
              0.8888888888888888,
              "#fdca26"
             ],
             [
              1,
              "#f0f921"
             ]
            ],
            "type": "surface"
           }
          ],
          "table": [
           {
            "cells": {
             "fill": {
              "color": "#EBF0F8"
             },
             "line": {
              "color": "white"
             }
            },
            "header": {
             "fill": {
              "color": "#C8D4E3"
             },
             "line": {
              "color": "white"
             }
            },
            "type": "table"
           }
          ]
         },
         "layout": {
          "annotationdefaults": {
           "arrowcolor": "#2a3f5f",
           "arrowhead": 0,
           "arrowwidth": 1
          },
          "autotypenumbers": "strict",
          "coloraxis": {
           "colorbar": {
            "outlinewidth": 0,
            "ticks": ""
           }
          },
          "colorscale": {
           "diverging": [
            [
             0,
             "#8e0152"
            ],
            [
             0.1,
             "#c51b7d"
            ],
            [
             0.2,
             "#de77ae"
            ],
            [
             0.3,
             "#f1b6da"
            ],
            [
             0.4,
             "#fde0ef"
            ],
            [
             0.5,
             "#f7f7f7"
            ],
            [
             0.6,
             "#e6f5d0"
            ],
            [
             0.7,
             "#b8e186"
            ],
            [
             0.8,
             "#7fbc41"
            ],
            [
             0.9,
             "#4d9221"
            ],
            [
             1,
             "#276419"
            ]
           ],
           "sequential": [
            [
             0,
             "#0d0887"
            ],
            [
             0.1111111111111111,
             "#46039f"
            ],
            [
             0.2222222222222222,
             "#7201a8"
            ],
            [
             0.3333333333333333,
             "#9c179e"
            ],
            [
             0.4444444444444444,
             "#bd3786"
            ],
            [
             0.5555555555555556,
             "#d8576b"
            ],
            [
             0.6666666666666666,
             "#ed7953"
            ],
            [
             0.7777777777777778,
             "#fb9f3a"
            ],
            [
             0.8888888888888888,
             "#fdca26"
            ],
            [
             1,
             "#f0f921"
            ]
           ],
           "sequentialminus": [
            [
             0,
             "#0d0887"
            ],
            [
             0.1111111111111111,
             "#46039f"
            ],
            [
             0.2222222222222222,
             "#7201a8"
            ],
            [
             0.3333333333333333,
             "#9c179e"
            ],
            [
             0.4444444444444444,
             "#bd3786"
            ],
            [
             0.5555555555555556,
             "#d8576b"
            ],
            [
             0.6666666666666666,
             "#ed7953"
            ],
            [
             0.7777777777777778,
             "#fb9f3a"
            ],
            [
             0.8888888888888888,
             "#fdca26"
            ],
            [
             1,
             "#f0f921"
            ]
           ]
          },
          "colorway": [
           "#636efa",
           "#EF553B",
           "#00cc96",
           "#ab63fa",
           "#FFA15A",
           "#19d3f3",
           "#FF6692",
           "#B6E880",
           "#FF97FF",
           "#FECB52"
          ],
          "font": {
           "color": "#2a3f5f"
          },
          "geo": {
           "bgcolor": "white",
           "lakecolor": "white",
           "landcolor": "#E5ECF6",
           "showlakes": true,
           "showland": true,
           "subunitcolor": "white"
          },
          "hoverlabel": {
           "align": "left"
          },
          "hovermode": "closest",
          "mapbox": {
           "style": "light"
          },
          "paper_bgcolor": "white",
          "plot_bgcolor": "#E5ECF6",
          "polar": {
           "angularaxis": {
            "gridcolor": "white",
            "linecolor": "white",
            "ticks": ""
           },
           "bgcolor": "#E5ECF6",
           "radialaxis": {
            "gridcolor": "white",
            "linecolor": "white",
            "ticks": ""
           }
          },
          "scene": {
           "xaxis": {
            "backgroundcolor": "#E5ECF6",
            "gridcolor": "white",
            "gridwidth": 2,
            "linecolor": "white",
            "showbackground": true,
            "ticks": "",
            "zerolinecolor": "white"
           },
           "yaxis": {
            "backgroundcolor": "#E5ECF6",
            "gridcolor": "white",
            "gridwidth": 2,
            "linecolor": "white",
            "showbackground": true,
            "ticks": "",
            "zerolinecolor": "white"
           },
           "zaxis": {
            "backgroundcolor": "#E5ECF6",
            "gridcolor": "white",
            "gridwidth": 2,
            "linecolor": "white",
            "showbackground": true,
            "ticks": "",
            "zerolinecolor": "white"
           }
          },
          "shapedefaults": {
           "line": {
            "color": "#2a3f5f"
           }
          },
          "ternary": {
           "aaxis": {
            "gridcolor": "white",
            "linecolor": "white",
            "ticks": ""
           },
           "baxis": {
            "gridcolor": "white",
            "linecolor": "white",
            "ticks": ""
           },
           "bgcolor": "#E5ECF6",
           "caxis": {
            "gridcolor": "white",
            "linecolor": "white",
            "ticks": ""
           }
          },
          "title": {
           "x": 0.05
          },
          "xaxis": {
           "automargin": true,
           "gridcolor": "white",
           "linecolor": "white",
           "ticks": "",
           "title": {
            "standoff": 15
           },
           "zerolinecolor": "white",
           "zerolinewidth": 2
          },
          "yaxis": {
           "automargin": true,
           "gridcolor": "white",
           "linecolor": "white",
           "ticks": "",
           "title": {
            "standoff": 15
           },
           "zerolinecolor": "white",
           "zerolinewidth": 2
          }
         }
        },
        "xaxis": {
         "anchor": "y",
         "domain": [
          0,
          1
         ],
         "title": {
          "text": "STATUS"
         }
        },
        "yaxis": {
         "anchor": "x",
         "domain": [
          0,
          1
         ],
         "title": {
          "text": "LAB"
         }
        }
       }
      },
      "text/html": [
       "<div>                            <div id=\"dc252919-11ea-4db9-8b3e-369103f7e9fe\" class=\"plotly-graph-div\" style=\"height:525px; width:100%;\"></div>            <script type=\"text/javascript\">                require([\"plotly\"], function(Plotly) {                    window.PLOTLYENV=window.PLOTLYENV || {};                                    if (document.getElementById(\"dc252919-11ea-4db9-8b3e-369103f7e9fe\")) {                    Plotly.newPlot(                        \"dc252919-11ea-4db9-8b3e-369103f7e9fe\",                        [{\"alignmentgroup\": \"True\", \"hovertemplate\": \"STATUS=%{x}<br>LAB=%{y}<extra></extra>\", \"legendgroup\": \"\", \"marker\": {\"color\": \"#636efa\"}, \"name\": \"\", \"offsetgroup\": \"\", \"orientation\": \"v\", \"showlegend\": false, \"textposition\": \"auto\", \"type\": \"bar\", \"x\": [\"WORKING\", \"WORKING\", \"WORKING\", \"WORKING\", \"WORKING\", \"WORKING\", \"WORKING\", \"WORKING\", \"WORKING\", \"WORKING\", \"WORKING\", \"WORKING\", \"WORKING\", \"WORKING\", \"WORKING\", \"WORKING\", \"WORKING\", \"WORKING\", \"WORKING\", \"WORKING\", \"WORKING\", \"WORKING\", \"WORKING\", \"WORKING\", \"WORKING\", \"WORKING\", \"WORKING\", \"WORKING\", \"WORKING\", \"WORKING\", \"NOT WORKING\", \"WORKING\", \"WORKING\", \"WORKING\", \"WORKING\", \"WORKING\", \"WORKING\", \"WORKING\", \"WORKING\", \"WORKING\", \"WORKING\", \"WORKING\", \"NOT WORKING\", \"WORKING\", \"WORKING\", \"WORKING\", \"WORKING\", \"NOT WORKING\", \"NOT WORKING\", \"NOT WORKING\", \"NOT WORKING\", \"NOT WORKING\", \"NOT WORKING\", \"NOT WORKING\", \"NOT WORKING\", \"NOT WORKING\", \"NOT WORKING\"], \"xaxis\": \"x\", \"y\": [\"LAB1\", \"LAB1\", \"LAB1\", \"LAB1\", \"LAB1\", \"LAB1\", \"LAB 2\", \"LAB1\", \"LAB1\", \"LAB1\", \"LAB1\", \"LAB1\", \"LAB1\", \"LAB1\", \"LAB1\", \"LAB1\", \"LAB1\", \"LAB1\", \"LAB1\", \"LAB1\", \"LAB1\", \"LAB1\", \"LAB1\", \"LAB1\", \"LAB1\", \"LAB1\", \"LAB1\", \"LAB 2\", \"LAB 2\", \"LAB 2\", \"LAB 2\", \"LAB 2\", \"LAB 2\", \"LAB 2\", \"LAB 2\", \"LAB 2\", \"LAB 2\", \"LAB 2\", \"LAB 2\", \"LAB 2\", \"LAB 2\", \"LAB 2\", \"LAB 2\", \"LAB 2\", \"LAB 2\", \"LAB 2\", \"LAB 2\", \"LAB 2\", \"LAB 2\", \"LAB 2\", \"LAB 2\", \"LAB 2\", \"LAB 2\", \"LAB 2\", \"LAB 2\", \"LAB 2\", \"LAB 2\"], \"yaxis\": \"y\"}],                        {\"barmode\": \"relative\", \"legend\": {\"tracegroupgap\": 0}, \"margin\": {\"t\": 60}, \"template\": {\"data\": {\"bar\": [{\"error_x\": {\"color\": \"#2a3f5f\"}, \"error_y\": {\"color\": \"#2a3f5f\"}, \"marker\": {\"line\": {\"color\": \"#E5ECF6\", \"width\": 0.5}}, \"type\": \"bar\"}], \"barpolar\": [{\"marker\": {\"line\": {\"color\": \"#E5ECF6\", \"width\": 0.5}}, \"type\": \"barpolar\"}], \"carpet\": [{\"aaxis\": {\"endlinecolor\": \"#2a3f5f\", \"gridcolor\": \"white\", \"linecolor\": \"white\", \"minorgridcolor\": \"white\", \"startlinecolor\": \"#2a3f5f\"}, \"baxis\": {\"endlinecolor\": \"#2a3f5f\", \"gridcolor\": \"white\", \"linecolor\": \"white\", \"minorgridcolor\": \"white\", \"startlinecolor\": \"#2a3f5f\"}, \"type\": \"carpet\"}], \"choropleth\": [{\"colorbar\": {\"outlinewidth\": 0, \"ticks\": \"\"}, \"type\": \"choropleth\"}], \"contour\": [{\"colorbar\": {\"outlinewidth\": 0, \"ticks\": \"\"}, \"colorscale\": [[0.0, \"#0d0887\"], [0.1111111111111111, \"#46039f\"], [0.2222222222222222, \"#7201a8\"], [0.3333333333333333, \"#9c179e\"], [0.4444444444444444, \"#bd3786\"], [0.5555555555555556, \"#d8576b\"], [0.6666666666666666, \"#ed7953\"], [0.7777777777777778, \"#fb9f3a\"], [0.8888888888888888, \"#fdca26\"], [1.0, \"#f0f921\"]], \"type\": \"contour\"}], \"contourcarpet\": [{\"colorbar\": {\"outlinewidth\": 0, \"ticks\": \"\"}, \"type\": \"contourcarpet\"}], \"heatmap\": [{\"colorbar\": {\"outlinewidth\": 0, \"ticks\": \"\"}, \"colorscale\": [[0.0, \"#0d0887\"], [0.1111111111111111, \"#46039f\"], [0.2222222222222222, \"#7201a8\"], [0.3333333333333333, \"#9c179e\"], [0.4444444444444444, \"#bd3786\"], [0.5555555555555556, \"#d8576b\"], [0.6666666666666666, \"#ed7953\"], [0.7777777777777778, \"#fb9f3a\"], [0.8888888888888888, \"#fdca26\"], [1.0, \"#f0f921\"]], \"type\": \"heatmap\"}], \"heatmapgl\": [{\"colorbar\": {\"outlinewidth\": 0, \"ticks\": \"\"}, \"colorscale\": [[0.0, \"#0d0887\"], [0.1111111111111111, \"#46039f\"], [0.2222222222222222, \"#7201a8\"], [0.3333333333333333, \"#9c179e\"], [0.4444444444444444, \"#bd3786\"], [0.5555555555555556, \"#d8576b\"], [0.6666666666666666, \"#ed7953\"], [0.7777777777777778, \"#fb9f3a\"], [0.8888888888888888, \"#fdca26\"], [1.0, \"#f0f921\"]], \"type\": \"heatmapgl\"}], \"histogram\": [{\"marker\": {\"colorbar\": {\"outlinewidth\": 0, \"ticks\": \"\"}}, \"type\": \"histogram\"}], \"histogram2d\": [{\"colorbar\": {\"outlinewidth\": 0, \"ticks\": \"\"}, \"colorscale\": [[0.0, \"#0d0887\"], [0.1111111111111111, \"#46039f\"], [0.2222222222222222, \"#7201a8\"], [0.3333333333333333, \"#9c179e\"], [0.4444444444444444, \"#bd3786\"], [0.5555555555555556, \"#d8576b\"], [0.6666666666666666, \"#ed7953\"], [0.7777777777777778, \"#fb9f3a\"], [0.8888888888888888, \"#fdca26\"], [1.0, \"#f0f921\"]], \"type\": \"histogram2d\"}], \"histogram2dcontour\": [{\"colorbar\": {\"outlinewidth\": 0, \"ticks\": \"\"}, \"colorscale\": [[0.0, \"#0d0887\"], [0.1111111111111111, \"#46039f\"], [0.2222222222222222, \"#7201a8\"], [0.3333333333333333, \"#9c179e\"], [0.4444444444444444, \"#bd3786\"], [0.5555555555555556, \"#d8576b\"], [0.6666666666666666, \"#ed7953\"], [0.7777777777777778, \"#fb9f3a\"], [0.8888888888888888, \"#fdca26\"], [1.0, \"#f0f921\"]], \"type\": \"histogram2dcontour\"}], \"mesh3d\": [{\"colorbar\": {\"outlinewidth\": 0, \"ticks\": \"\"}, \"type\": \"mesh3d\"}], \"parcoords\": [{\"line\": {\"colorbar\": {\"outlinewidth\": 0, \"ticks\": \"\"}}, \"type\": \"parcoords\"}], \"pie\": [{\"automargin\": true, \"type\": \"pie\"}], \"scatter\": [{\"marker\": {\"colorbar\": {\"outlinewidth\": 0, \"ticks\": \"\"}}, \"type\": \"scatter\"}], \"scatter3d\": [{\"line\": {\"colorbar\": {\"outlinewidth\": 0, \"ticks\": \"\"}}, \"marker\": {\"colorbar\": {\"outlinewidth\": 0, \"ticks\": \"\"}}, \"type\": \"scatter3d\"}], \"scattercarpet\": [{\"marker\": {\"colorbar\": {\"outlinewidth\": 0, \"ticks\": \"\"}}, \"type\": \"scattercarpet\"}], \"scattergeo\": [{\"marker\": {\"colorbar\": {\"outlinewidth\": 0, \"ticks\": \"\"}}, \"type\": \"scattergeo\"}], \"scattergl\": [{\"marker\": {\"colorbar\": {\"outlinewidth\": 0, \"ticks\": \"\"}}, \"type\": \"scattergl\"}], \"scattermapbox\": [{\"marker\": {\"colorbar\": {\"outlinewidth\": 0, \"ticks\": \"\"}}, \"type\": \"scattermapbox\"}], \"scatterpolar\": [{\"marker\": {\"colorbar\": {\"outlinewidth\": 0, \"ticks\": \"\"}}, \"type\": \"scatterpolar\"}], \"scatterpolargl\": [{\"marker\": {\"colorbar\": {\"outlinewidth\": 0, \"ticks\": \"\"}}, \"type\": \"scatterpolargl\"}], \"scatterternary\": [{\"marker\": {\"colorbar\": {\"outlinewidth\": 0, \"ticks\": \"\"}}, \"type\": \"scatterternary\"}], \"surface\": [{\"colorbar\": {\"outlinewidth\": 0, \"ticks\": \"\"}, \"colorscale\": [[0.0, \"#0d0887\"], [0.1111111111111111, \"#46039f\"], [0.2222222222222222, \"#7201a8\"], [0.3333333333333333, \"#9c179e\"], [0.4444444444444444, \"#bd3786\"], [0.5555555555555556, \"#d8576b\"], [0.6666666666666666, \"#ed7953\"], [0.7777777777777778, \"#fb9f3a\"], [0.8888888888888888, \"#fdca26\"], [1.0, \"#f0f921\"]], \"type\": \"surface\"}], \"table\": [{\"cells\": {\"fill\": {\"color\": \"#EBF0F8\"}, \"line\": {\"color\": \"white\"}}, \"header\": {\"fill\": {\"color\": \"#C8D4E3\"}, \"line\": {\"color\": \"white\"}}, \"type\": \"table\"}]}, \"layout\": {\"annotationdefaults\": {\"arrowcolor\": \"#2a3f5f\", \"arrowhead\": 0, \"arrowwidth\": 1}, \"autotypenumbers\": \"strict\", \"coloraxis\": {\"colorbar\": {\"outlinewidth\": 0, \"ticks\": \"\"}}, \"colorscale\": {\"diverging\": [[0, \"#8e0152\"], [0.1, \"#c51b7d\"], [0.2, \"#de77ae\"], [0.3, \"#f1b6da\"], [0.4, \"#fde0ef\"], [0.5, \"#f7f7f7\"], [0.6, \"#e6f5d0\"], [0.7, \"#b8e186\"], [0.8, \"#7fbc41\"], [0.9, \"#4d9221\"], [1, \"#276419\"]], \"sequential\": [[0.0, \"#0d0887\"], [0.1111111111111111, \"#46039f\"], [0.2222222222222222, \"#7201a8\"], [0.3333333333333333, \"#9c179e\"], [0.4444444444444444, \"#bd3786\"], [0.5555555555555556, \"#d8576b\"], [0.6666666666666666, \"#ed7953\"], [0.7777777777777778, \"#fb9f3a\"], [0.8888888888888888, \"#fdca26\"], [1.0, \"#f0f921\"]], \"sequentialminus\": [[0.0, \"#0d0887\"], [0.1111111111111111, \"#46039f\"], [0.2222222222222222, \"#7201a8\"], [0.3333333333333333, \"#9c179e\"], [0.4444444444444444, \"#bd3786\"], [0.5555555555555556, \"#d8576b\"], [0.6666666666666666, \"#ed7953\"], [0.7777777777777778, \"#fb9f3a\"], [0.8888888888888888, \"#fdca26\"], [1.0, \"#f0f921\"]]}, \"colorway\": [\"#636efa\", \"#EF553B\", \"#00cc96\", \"#ab63fa\", \"#FFA15A\", \"#19d3f3\", \"#FF6692\", \"#B6E880\", \"#FF97FF\", \"#FECB52\"], \"font\": {\"color\": \"#2a3f5f\"}, \"geo\": {\"bgcolor\": \"white\", \"lakecolor\": \"white\", \"landcolor\": \"#E5ECF6\", \"showlakes\": true, \"showland\": true, \"subunitcolor\": \"white\"}, \"hoverlabel\": {\"align\": \"left\"}, \"hovermode\": \"closest\", \"mapbox\": {\"style\": \"light\"}, \"paper_bgcolor\": \"white\", \"plot_bgcolor\": \"#E5ECF6\", \"polar\": {\"angularaxis\": {\"gridcolor\": \"white\", \"linecolor\": \"white\", \"ticks\": \"\"}, \"bgcolor\": \"#E5ECF6\", \"radialaxis\": {\"gridcolor\": \"white\", \"linecolor\": \"white\", \"ticks\": \"\"}}, \"scene\": {\"xaxis\": {\"backgroundcolor\": \"#E5ECF6\", \"gridcolor\": \"white\", \"gridwidth\": 2, \"linecolor\": \"white\", \"showbackground\": true, \"ticks\": \"\", \"zerolinecolor\": \"white\"}, \"yaxis\": {\"backgroundcolor\": \"#E5ECF6\", \"gridcolor\": \"white\", \"gridwidth\": 2, \"linecolor\": \"white\", \"showbackground\": true, \"ticks\": \"\", \"zerolinecolor\": \"white\"}, \"zaxis\": {\"backgroundcolor\": \"#E5ECF6\", \"gridcolor\": \"white\", \"gridwidth\": 2, \"linecolor\": \"white\", \"showbackground\": true, \"ticks\": \"\", \"zerolinecolor\": \"white\"}}, \"shapedefaults\": {\"line\": {\"color\": \"#2a3f5f\"}}, \"ternary\": {\"aaxis\": {\"gridcolor\": \"white\", \"linecolor\": \"white\", \"ticks\": \"\"}, \"baxis\": {\"gridcolor\": \"white\", \"linecolor\": \"white\", \"ticks\": \"\"}, \"bgcolor\": \"#E5ECF6\", \"caxis\": {\"gridcolor\": \"white\", \"linecolor\": \"white\", \"ticks\": \"\"}}, \"title\": {\"x\": 0.05}, \"xaxis\": {\"automargin\": true, \"gridcolor\": \"white\", \"linecolor\": \"white\", \"ticks\": \"\", \"title\": {\"standoff\": 15}, \"zerolinecolor\": \"white\", \"zerolinewidth\": 2}, \"yaxis\": {\"automargin\": true, \"gridcolor\": \"white\", \"linecolor\": \"white\", \"ticks\": \"\", \"title\": {\"standoff\": 15}, \"zerolinecolor\": \"white\", \"zerolinewidth\": 2}}}, \"xaxis\": {\"anchor\": \"y\", \"domain\": [0.0, 1.0], \"title\": {\"text\": \"STATUS\"}}, \"yaxis\": {\"anchor\": \"x\", \"domain\": [0.0, 1.0], \"title\": {\"text\": \"LAB\"}}},                        {\"responsive\": true}                    ).then(function(){\n",
       "                            \n",
       "var gd = document.getElementById('dc252919-11ea-4db9-8b3e-369103f7e9fe');\n",
       "var x = new MutationObserver(function (mutations, observer) {{\n",
       "        var display = window.getComputedStyle(gd).display;\n",
       "        if (!display || display === 'none') {{\n",
       "            console.log([gd, 'removed!']);\n",
       "            Plotly.purge(gd);\n",
       "            observer.disconnect();\n",
       "        }}\n",
       "}});\n",
       "\n",
       "// Listen for the removal of the full notebook cells\n",
       "var notebookContainer = gd.closest('#notebook-container');\n",
       "if (notebookContainer) {{\n",
       "    x.observe(notebookContainer, {childList: true});\n",
       "}}\n",
       "\n",
       "// Listen for the clearing of the current output cell\n",
       "var outputEl = gd.closest('.output');\n",
       "if (outputEl) {{\n",
       "    x.observe(outputEl, {childList: true});\n",
       "}}\n",
       "\n",
       "                        })                };                });            </script>        </div>"
      ]
     },
     "metadata": {},
     "output_type": "display_data"
    }
   ],
   "source": [
    "fig = px.bar(df, y='LAB', x='STATUS')\n",
    "fig.show()"
   ]
  },
  {
   "cell_type": "markdown",
   "id": "a2d702df",
   "metadata": {},
   "source": [
    "### no of systems containing python : 9"
   ]
  },
  {
   "cell_type": "code",
   "execution_count": 6,
   "id": "c567116b",
   "metadata": {},
   "outputs": [
    {
     "data": {
      "text/html": [
       "<div>\n",
       "<style scoped>\n",
       "    .dataframe tbody tr th:only-of-type {\n",
       "        vertical-align: middle;\n",
       "    }\n",
       "\n",
       "    .dataframe tbody tr th {\n",
       "        vertical-align: top;\n",
       "    }\n",
       "\n",
       "    .dataframe thead th {\n",
       "        text-align: right;\n",
       "    }\n",
       "</style>\n",
       "<table border=\"1\" class=\"dataframe\">\n",
       "  <thead>\n",
       "    <tr style=\"text-align: right;\">\n",
       "      <th></th>\n",
       "      <th>S.NO</th>\n",
       "      <th>PC NAME</th>\n",
       "      <th>WIFI</th>\n",
       "      <th>WINDOWS</th>\n",
       "      <th>PYTHON</th>\n",
       "      <th>C/C++</th>\n",
       "      <th>VISUAL STUDIO</th>\n",
       "      <th>LINUX</th>\n",
       "      <th>PHP/XAMPP</th>\n",
       "      <th>OFFICE</th>\n",
       "      <th>MYSQL</th>\n",
       "      <th>LAB</th>\n",
       "      <th>STATUS</th>\n",
       "      <th>REMARKS ( BATTRRY UPDATION )</th>\n",
       "    </tr>\n",
       "  </thead>\n",
       "  <tbody>\n",
       "    <tr>\n",
       "      <th>0</th>\n",
       "      <td>1</td>\n",
       "      <td>PG 2</td>\n",
       "      <td>NO</td>\n",
       "      <td>WIN 8</td>\n",
       "      <td>YES</td>\n",
       "      <td>YES</td>\n",
       "      <td>NO</td>\n",
       "      <td>YES</td>\n",
       "      <td>NO</td>\n",
       "      <td>2007</td>\n",
       "      <td>NO</td>\n",
       "      <td>LAB1</td>\n",
       "      <td>WORKING</td>\n",
       "      <td>NaN</td>\n",
       "    </tr>\n",
       "    <tr>\n",
       "      <th>2</th>\n",
       "      <td>3</td>\n",
       "      <td>UG 25</td>\n",
       "      <td>NO</td>\n",
       "      <td>WIN 7</td>\n",
       "      <td>YES</td>\n",
       "      <td>YES</td>\n",
       "      <td>NO</td>\n",
       "      <td>YES</td>\n",
       "      <td>NO</td>\n",
       "      <td>2007</td>\n",
       "      <td>NO</td>\n",
       "      <td>LAB1</td>\n",
       "      <td>WORKING</td>\n",
       "      <td>CLOCK BEHIND, NO ACCESS TO DATA</td>\n",
       "    </tr>\n",
       "    <tr>\n",
       "      <th>7</th>\n",
       "      <td>8</td>\n",
       "      <td>PG 14</td>\n",
       "      <td>NO</td>\n",
       "      <td>WIN 7</td>\n",
       "      <td>YES</td>\n",
       "      <td>YES</td>\n",
       "      <td>NO</td>\n",
       "      <td>YES</td>\n",
       "      <td>NO</td>\n",
       "      <td>2007</td>\n",
       "      <td>NO</td>\n",
       "      <td>LAB1</td>\n",
       "      <td>WORKING</td>\n",
       "      <td>ram 1 gb, intel r core processor</td>\n",
       "    </tr>\n",
       "    <tr>\n",
       "      <th>13</th>\n",
       "      <td>14</td>\n",
       "      <td>PG 13</td>\n",
       "      <td>NO</td>\n",
       "      <td>WIN 8</td>\n",
       "      <td>YES</td>\n",
       "      <td>YES</td>\n",
       "      <td>NO</td>\n",
       "      <td>YES</td>\n",
       "      <td>NO</td>\n",
       "      <td>2007</td>\n",
       "      <td>NO</td>\n",
       "      <td>LAB1</td>\n",
       "      <td>WORKING</td>\n",
       "      <td>NaN</td>\n",
       "    </tr>\n",
       "    <tr>\n",
       "      <th>14</th>\n",
       "      <td>15</td>\n",
       "      <td>UG 11</td>\n",
       "      <td>YES</td>\n",
       "      <td>WIN 7</td>\n",
       "      <td>YES</td>\n",
       "      <td>YES</td>\n",
       "      <td>NO</td>\n",
       "      <td>YES</td>\n",
       "      <td>NO</td>\n",
       "      <td>2007</td>\n",
       "      <td>NO</td>\n",
       "      <td>LAB1</td>\n",
       "      <td>WORKING</td>\n",
       "      <td>NaN</td>\n",
       "    </tr>\n",
       "    <tr>\n",
       "      <th>15</th>\n",
       "      <td>16</td>\n",
       "      <td>PG 11</td>\n",
       "      <td>NO</td>\n",
       "      <td>WIN 8</td>\n",
       "      <td>YES</td>\n",
       "      <td>YES</td>\n",
       "      <td>NO</td>\n",
       "      <td>YES</td>\n",
       "      <td>NO</td>\n",
       "      <td>2007</td>\n",
       "      <td>NO</td>\n",
       "      <td>LAB1</td>\n",
       "      <td>WORKING</td>\n",
       "      <td>NaN</td>\n",
       "    </tr>\n",
       "    <tr>\n",
       "      <th>16</th>\n",
       "      <td>17</td>\n",
       "      <td>PG 10</td>\n",
       "      <td>NO</td>\n",
       "      <td>WIN 7</td>\n",
       "      <td>YES</td>\n",
       "      <td>YES</td>\n",
       "      <td>NO</td>\n",
       "      <td>NO</td>\n",
       "      <td>NO</td>\n",
       "      <td>2007</td>\n",
       "      <td>NO</td>\n",
       "      <td>LAB1</td>\n",
       "      <td>WORKING</td>\n",
       "      <td>NaN</td>\n",
       "    </tr>\n",
       "    <tr>\n",
       "      <th>17</th>\n",
       "      <td>18</td>\n",
       "      <td>UG 1</td>\n",
       "      <td>YES</td>\n",
       "      <td>WIN 7</td>\n",
       "      <td>YES</td>\n",
       "      <td>YES</td>\n",
       "      <td>NO</td>\n",
       "      <td>NO</td>\n",
       "      <td>NO</td>\n",
       "      <td>2007</td>\n",
       "      <td>NO</td>\n",
       "      <td>LAB1</td>\n",
       "      <td>WORKING</td>\n",
       "      <td>CLOCK BEHIND, NO ACCESS TO DATA</td>\n",
       "    </tr>\n",
       "    <tr>\n",
       "      <th>18</th>\n",
       "      <td>19</td>\n",
       "      <td>PG 9</td>\n",
       "      <td>NO</td>\n",
       "      <td>WIN 8</td>\n",
       "      <td>YES</td>\n",
       "      <td>YES</td>\n",
       "      <td>NO</td>\n",
       "      <td>YES</td>\n",
       "      <td>NO</td>\n",
       "      <td>2007</td>\n",
       "      <td>NO</td>\n",
       "      <td>LAB1</td>\n",
       "      <td>WORKING</td>\n",
       "      <td>NaN</td>\n",
       "    </tr>\n",
       "  </tbody>\n",
       "</table>\n",
       "</div>"
      ],
      "text/plain": [
       "    S.NO  PC NAME WIFI WINDOWS PYTHON C/C++ VISUAL STUDIO LINUX PHP/XAMPP  \\\n",
       "0       1    PG 2   NO   WIN 8    YES   YES            NO   YES        NO   \n",
       "2       3   UG 25   NO   WIN 7    YES   YES            NO   YES        NO   \n",
       "7       8   PG 14   NO   WIN 7    YES   YES            NO   YES        NO   \n",
       "13     14   PG 13   NO   WIN 8    YES   YES            NO   YES        NO   \n",
       "14     15   UG 11  YES   WIN 7    YES   YES            NO   YES        NO   \n",
       "15     16   PG 11   NO   WIN 8    YES   YES            NO   YES        NO   \n",
       "16     17  PG 10    NO   WIN 7    YES   YES            NO    NO        NO   \n",
       "17     18    UG 1  YES   WIN 7    YES   YES            NO    NO        NO   \n",
       "18     19    PG 9   NO   WIN 8    YES   YES            NO   YES        NO   \n",
       "\n",
       "    OFFICE MYSQL   LAB   STATUS     REMARKS ( BATTRRY UPDATION )   \n",
       "0     2007    NO  LAB1  WORKING                               NaN  \n",
       "2     2007    NO  LAB1  WORKING   CLOCK BEHIND, NO ACCESS TO DATA  \n",
       "7     2007    NO  LAB1  WORKING  ram 1 gb, intel r core processor  \n",
       "13    2007    NO  LAB1  WORKING                               NaN  \n",
       "14    2007    NO  LAB1  WORKING                               NaN  \n",
       "15    2007    NO  LAB1  WORKING                               NaN  \n",
       "16    2007    NO  LAB1  WORKING                               NaN  \n",
       "17    2007    NO  LAB1  WORKING   CLOCK BEHIND, NO ACCESS TO DATA  \n",
       "18    2007    NO  LAB1  WORKING                               NaN  "
      ]
     },
     "execution_count": 6,
     "metadata": {},
     "output_type": "execute_result"
    }
   ],
   "source": [
    "df[df['PYTHON']=='YES']"
   ]
  },
  {
   "cell_type": "code",
   "execution_count": 47,
   "id": "1b87eec6",
   "metadata": {},
   "outputs": [
    {
     "data": {
      "image/png": "[encoded data removed]",
      "text/plain": [
       "<Figure size 432x288 with 1 Axes>"
      ]
     },
     "metadata": {
      "needs_background": "light"
     },
     "output_type": "display_data"
    }
   ],
   "source": [
    "plt.title('No of Systems with Python')\n",
    "sns.countplot(x = df.PYTHON)\n",
    "plt.show()"
   ]
  },
  {
   "cell_type": "code",
   "execution_count": 7,
   "id": "a8bf2ee1",
   "metadata": {},
   "outputs": [
    {
     "name": "stdout",
     "output_type": "stream",
     "text": [
      "Percentage :  15.789473684210526\n"
     ]
    }
   ],
   "source": [
    "print('Percentage : ',df[df['PYTHON']=='YES'].shape[0]/df.shape[0]*100)"
   ]
  },
  {
   "cell_type": "markdown",
   "id": "432ec641",
   "metadata": {},
   "source": [
    "### no of systems containing c/c++ : 51, <code> IN LAB 2 (C) is installed but software is corrupted </code>"
   ]
  },
  {
   "cell_type": "code",
   "execution_count": 8,
   "id": "e702de59",
   "metadata": {
    "scrolled": false
   },
   "outputs": [
    {
     "data": {
      "text/html": [
       "<div>\n",
       "<style scoped>\n",
       "    .dataframe tbody tr th:only-of-type {\n",
       "        vertical-align: middle;\n",
       "    }\n",
       "\n",
       "    .dataframe tbody tr th {\n",
       "        vertical-align: top;\n",
       "    }\n",
       "\n",
       "    .dataframe thead th {\n",
       "        text-align: right;\n",
       "    }\n",
       "</style>\n",
       "<table border=\"1\" class=\"dataframe\">\n",
       "  <thead>\n",
       "    <tr style=\"text-align: right;\">\n",
       "      <th></th>\n",
       "      <th>S.NO</th>\n",
       "      <th>PC NAME</th>\n",
       "      <th>WIFI</th>\n",
       "      <th>WINDOWS</th>\n",
       "      <th>PYTHON</th>\n",
       "      <th>C/C++</th>\n",
       "      <th>VISUAL STUDIO</th>\n",
       "      <th>LINUX</th>\n",
       "      <th>PHP/XAMPP</th>\n",
       "      <th>OFFICE</th>\n",
       "      <th>MYSQL</th>\n",
       "      <th>LAB</th>\n",
       "      <th>STATUS</th>\n",
       "      <th>REMARKS ( BATTRRY UPDATION )</th>\n",
       "    </tr>\n",
       "  </thead>\n",
       "  <tbody>\n",
       "    <tr>\n",
       "      <th>0</th>\n",
       "      <td>1</td>\n",
       "      <td>PG 2</td>\n",
       "      <td>NO</td>\n",
       "      <td>WIN 8</td>\n",
       "      <td>YES</td>\n",
       "      <td>YES</td>\n",
       "      <td>NO</td>\n",
       "      <td>YES</td>\n",
       "      <td>NO</td>\n",
       "      <td>2007</td>\n",
       "      <td>NO</td>\n",
       "      <td>LAB1</td>\n",
       "      <td>WORKING</td>\n",
       "      <td>NaN</td>\n",
       "    </tr>\n",
       "    <tr>\n",
       "      <th>2</th>\n",
       "      <td>3</td>\n",
       "      <td>UG 25</td>\n",
       "      <td>NO</td>\n",
       "      <td>WIN 7</td>\n",
       "      <td>YES</td>\n",
       "      <td>YES</td>\n",
       "      <td>NO</td>\n",
       "      <td>YES</td>\n",
       "      <td>NO</td>\n",
       "      <td>2007</td>\n",
       "      <td>NO</td>\n",
       "      <td>LAB1</td>\n",
       "      <td>WORKING</td>\n",
       "      <td>CLOCK BEHIND, NO ACCESS TO DATA</td>\n",
       "    </tr>\n",
       "    <tr>\n",
       "      <th>3</th>\n",
       "      <td>4</td>\n",
       "      <td>UG 11</td>\n",
       "      <td>YES</td>\n",
       "      <td>WIN 7</td>\n",
       "      <td>NO</td>\n",
       "      <td>YES</td>\n",
       "      <td>NO</td>\n",
       "      <td>YES</td>\n",
       "      <td>NO</td>\n",
       "      <td>2007</td>\n",
       "      <td>NO</td>\n",
       "      <td>LAB1</td>\n",
       "      <td>WORKING</td>\n",
       "      <td>NaN</td>\n",
       "    </tr>\n",
       "    <tr>\n",
       "      <th>4</th>\n",
       "      <td>5</td>\n",
       "      <td>UG 7</td>\n",
       "      <td>NO</td>\n",
       "      <td>WIN 7</td>\n",
       "      <td>NO</td>\n",
       "      <td>YES</td>\n",
       "      <td>NO</td>\n",
       "      <td>YES</td>\n",
       "      <td>NO</td>\n",
       "      <td>2007</td>\n",
       "      <td>NO</td>\n",
       "      <td>LAB1</td>\n",
       "      <td>WORKING</td>\n",
       "      <td>NaN</td>\n",
       "    </tr>\n",
       "    <tr>\n",
       "      <th>6</th>\n",
       "      <td>7</td>\n",
       "      <td>ST 22</td>\n",
       "      <td>YES</td>\n",
       "      <td>WIN 10</td>\n",
       "      <td>NO</td>\n",
       "      <td>YES</td>\n",
       "      <td>NO</td>\n",
       "      <td>NO</td>\n",
       "      <td>YES</td>\n",
       "      <td>2007</td>\n",
       "      <td>NO</td>\n",
       "      <td>LAB 2</td>\n",
       "      <td>WORKING</td>\n",
       "      <td>LAB 2</td>\n",
       "    </tr>\n",
       "    <tr>\n",
       "      <th>7</th>\n",
       "      <td>8</td>\n",
       "      <td>PG 14</td>\n",
       "      <td>NO</td>\n",
       "      <td>WIN 7</td>\n",
       "      <td>YES</td>\n",
       "      <td>YES</td>\n",
       "      <td>NO</td>\n",
       "      <td>YES</td>\n",
       "      <td>NO</td>\n",
       "      <td>2007</td>\n",
       "      <td>NO</td>\n",
       "      <td>LAB1</td>\n",
       "      <td>WORKING</td>\n",
       "      <td>ram 1 gb, intel r core processor</td>\n",
       "    </tr>\n",
       "    <tr>\n",
       "      <th>9</th>\n",
       "      <td>10</td>\n",
       "      <td>PG 16</td>\n",
       "      <td>NO</td>\n",
       "      <td>WIN 7</td>\n",
       "      <td>NO</td>\n",
       "      <td>YES</td>\n",
       "      <td>NO</td>\n",
       "      <td>YES</td>\n",
       "      <td>NO</td>\n",
       "      <td>2007</td>\n",
       "      <td>NO</td>\n",
       "      <td>LAB1</td>\n",
       "      <td>WORKING</td>\n",
       "      <td>NaN</td>\n",
       "    </tr>\n",
       "    <tr>\n",
       "      <th>10</th>\n",
       "      <td>11</td>\n",
       "      <td>UG 14</td>\n",
       "      <td>YES</td>\n",
       "      <td>WIN 7</td>\n",
       "      <td>NO</td>\n",
       "      <td>YES</td>\n",
       "      <td>NO</td>\n",
       "      <td>YES</td>\n",
       "      <td>NO</td>\n",
       "      <td>2007</td>\n",
       "      <td>NO</td>\n",
       "      <td>LAB1</td>\n",
       "      <td>WORKING</td>\n",
       "      <td>NaN</td>\n",
       "    </tr>\n",
       "    <tr>\n",
       "      <th>11</th>\n",
       "      <td>12</td>\n",
       "      <td>PG 18</td>\n",
       "      <td>NO</td>\n",
       "      <td>XP</td>\n",
       "      <td>NO</td>\n",
       "      <td>YES</td>\n",
       "      <td>NO</td>\n",
       "      <td>YES</td>\n",
       "      <td>NO</td>\n",
       "      <td>2007</td>\n",
       "      <td>NO</td>\n",
       "      <td>LAB1</td>\n",
       "      <td>WORKING</td>\n",
       "      <td>NaN</td>\n",
       "    </tr>\n",
       "    <tr>\n",
       "      <th>12</th>\n",
       "      <td>13</td>\n",
       "      <td>PG 17</td>\n",
       "      <td>NO</td>\n",
       "      <td>XP</td>\n",
       "      <td>NO</td>\n",
       "      <td>YES</td>\n",
       "      <td>NO</td>\n",
       "      <td>YES</td>\n",
       "      <td>NO</td>\n",
       "      <td>2007</td>\n",
       "      <td>NO</td>\n",
       "      <td>LAB1</td>\n",
       "      <td>WORKING</td>\n",
       "      <td>NaN</td>\n",
       "    </tr>\n",
       "    <tr>\n",
       "      <th>13</th>\n",
       "      <td>14</td>\n",
       "      <td>PG 13</td>\n",
       "      <td>NO</td>\n",
       "      <td>WIN 8</td>\n",
       "      <td>YES</td>\n",
       "      <td>YES</td>\n",
       "      <td>NO</td>\n",
       "      <td>YES</td>\n",
       "      <td>NO</td>\n",
       "      <td>2007</td>\n",
       "      <td>NO</td>\n",
       "      <td>LAB1</td>\n",
       "      <td>WORKING</td>\n",
       "      <td>NaN</td>\n",
       "    </tr>\n",
       "    <tr>\n",
       "      <th>14</th>\n",
       "      <td>15</td>\n",
       "      <td>UG 11</td>\n",
       "      <td>YES</td>\n",
       "      <td>WIN 7</td>\n",
       "      <td>YES</td>\n",
       "      <td>YES</td>\n",
       "      <td>NO</td>\n",
       "      <td>YES</td>\n",
       "      <td>NO</td>\n",
       "      <td>2007</td>\n",
       "      <td>NO</td>\n",
       "      <td>LAB1</td>\n",
       "      <td>WORKING</td>\n",
       "      <td>NaN</td>\n",
       "    </tr>\n",
       "    <tr>\n",
       "      <th>15</th>\n",
       "      <td>16</td>\n",
       "      <td>PG 11</td>\n",
       "      <td>NO</td>\n",
       "      <td>WIN 8</td>\n",
       "      <td>YES</td>\n",
       "      <td>YES</td>\n",
       "      <td>NO</td>\n",
       "      <td>YES</td>\n",
       "      <td>NO</td>\n",
       "      <td>2007</td>\n",
       "      <td>NO</td>\n",
       "      <td>LAB1</td>\n",
       "      <td>WORKING</td>\n",
       "      <td>NaN</td>\n",
       "    </tr>\n",
       "    <tr>\n",
       "      <th>16</th>\n",
       "      <td>17</td>\n",
       "      <td>PG 10</td>\n",
       "      <td>NO</td>\n",
       "      <td>WIN 7</td>\n",
       "      <td>YES</td>\n",
       "      <td>YES</td>\n",
       "      <td>NO</td>\n",
       "      <td>NO</td>\n",
       "      <td>NO</td>\n",
       "      <td>2007</td>\n",
       "      <td>NO</td>\n",
       "      <td>LAB1</td>\n",
       "      <td>WORKING</td>\n",
       "      <td>NaN</td>\n",
       "    </tr>\n",
       "    <tr>\n",
       "      <th>17</th>\n",
       "      <td>18</td>\n",
       "      <td>UG 1</td>\n",
       "      <td>YES</td>\n",
       "      <td>WIN 7</td>\n",
       "      <td>YES</td>\n",
       "      <td>YES</td>\n",
       "      <td>NO</td>\n",
       "      <td>NO</td>\n",
       "      <td>NO</td>\n",
       "      <td>2007</td>\n",
       "      <td>NO</td>\n",
       "      <td>LAB1</td>\n",
       "      <td>WORKING</td>\n",
       "      <td>CLOCK BEHIND, NO ACCESS TO DATA</td>\n",
       "    </tr>\n",
       "    <tr>\n",
       "      <th>18</th>\n",
       "      <td>19</td>\n",
       "      <td>PG 9</td>\n",
       "      <td>NO</td>\n",
       "      <td>WIN 8</td>\n",
       "      <td>YES</td>\n",
       "      <td>YES</td>\n",
       "      <td>NO</td>\n",
       "      <td>YES</td>\n",
       "      <td>NO</td>\n",
       "      <td>2007</td>\n",
       "      <td>NO</td>\n",
       "      <td>LAB1</td>\n",
       "      <td>WORKING</td>\n",
       "      <td>NaN</td>\n",
       "    </tr>\n",
       "    <tr>\n",
       "      <th>19</th>\n",
       "      <td>20</td>\n",
       "      <td>PG 1</td>\n",
       "      <td>NO</td>\n",
       "      <td>WIN 7</td>\n",
       "      <td>NO</td>\n",
       "      <td>YES</td>\n",
       "      <td>NO</td>\n",
       "      <td>NO</td>\n",
       "      <td>NO</td>\n",
       "      <td>2007</td>\n",
       "      <td>NO</td>\n",
       "      <td>LAB1</td>\n",
       "      <td>WORKING</td>\n",
       "      <td>No Internet</td>\n",
       "    </tr>\n",
       "    <tr>\n",
       "      <th>20</th>\n",
       "      <td>21</td>\n",
       "      <td>PG 7</td>\n",
       "      <td>YES</td>\n",
       "      <td>WIN 8</td>\n",
       "      <td>NO</td>\n",
       "      <td>YES</td>\n",
       "      <td>NO</td>\n",
       "      <td>YES</td>\n",
       "      <td>NO</td>\n",
       "      <td>2007</td>\n",
       "      <td>NO</td>\n",
       "      <td>LAB1</td>\n",
       "      <td>WORKING</td>\n",
       "      <td>NaN</td>\n",
       "    </tr>\n",
       "    <tr>\n",
       "      <th>21</th>\n",
       "      <td>22</td>\n",
       "      <td>PG 25</td>\n",
       "      <td>NO</td>\n",
       "      <td>XP</td>\n",
       "      <td>NO</td>\n",
       "      <td>YES</td>\n",
       "      <td>NO</td>\n",
       "      <td>NO</td>\n",
       "      <td>NO</td>\n",
       "      <td>2007</td>\n",
       "      <td>NO</td>\n",
       "      <td>LAB1</td>\n",
       "      <td>WORKING</td>\n",
       "      <td>No Internet, ram 1 gb, intel r core processor</td>\n",
       "    </tr>\n",
       "    <tr>\n",
       "      <th>22</th>\n",
       "      <td>23</td>\n",
       "      <td>PG 24</td>\n",
       "      <td>NO</td>\n",
       "      <td>XP</td>\n",
       "      <td>NO</td>\n",
       "      <td>YES</td>\n",
       "      <td>NO</td>\n",
       "      <td>NO</td>\n",
       "      <td>NO</td>\n",
       "      <td>2007</td>\n",
       "      <td>NO</td>\n",
       "      <td>LAB1</td>\n",
       "      <td>WORKING</td>\n",
       "      <td>No Internet, ram 1 gb, intel r core processor</td>\n",
       "    </tr>\n",
       "    <tr>\n",
       "      <th>23</th>\n",
       "      <td>24</td>\n",
       "      <td>PG 23</td>\n",
       "      <td>NO</td>\n",
       "      <td>XP</td>\n",
       "      <td>NO</td>\n",
       "      <td>YES</td>\n",
       "      <td>NO</td>\n",
       "      <td>NO</td>\n",
       "      <td>NO</td>\n",
       "      <td>2007</td>\n",
       "      <td>NO</td>\n",
       "      <td>LAB1</td>\n",
       "      <td>WORKING</td>\n",
       "      <td>No Internet, ram 1 gb, intel r core processor</td>\n",
       "    </tr>\n",
       "    <tr>\n",
       "      <th>24</th>\n",
       "      <td>25</td>\n",
       "      <td>PG 22</td>\n",
       "      <td>NO</td>\n",
       "      <td>WIN 7</td>\n",
       "      <td>NO</td>\n",
       "      <td>YES</td>\n",
       "      <td>NO</td>\n",
       "      <td>YES</td>\n",
       "      <td>YES</td>\n",
       "      <td>2007</td>\n",
       "      <td>NO</td>\n",
       "      <td>LAB1</td>\n",
       "      <td>WORKING</td>\n",
       "      <td>No Internet, ram 1 gb, intel r core processor</td>\n",
       "    </tr>\n",
       "    <tr>\n",
       "      <th>25</th>\n",
       "      <td>26</td>\n",
       "      <td>PG 21</td>\n",
       "      <td>NO</td>\n",
       "      <td>XP</td>\n",
       "      <td>NO</td>\n",
       "      <td>YES</td>\n",
       "      <td>NO</td>\n",
       "      <td>NO</td>\n",
       "      <td>NO</td>\n",
       "      <td>2007</td>\n",
       "      <td>NO</td>\n",
       "      <td>LAB1</td>\n",
       "      <td>WORKING</td>\n",
       "      <td>CLOCK BEHIND, NO ACCESS TO DATA</td>\n",
       "    </tr>\n",
       "    <tr>\n",
       "      <th>26</th>\n",
       "      <td>27</td>\n",
       "      <td>PG 20</td>\n",
       "      <td>NO</td>\n",
       "      <td>WIN 7</td>\n",
       "      <td>NO</td>\n",
       "      <td>YES</td>\n",
       "      <td>NO</td>\n",
       "      <td>YES</td>\n",
       "      <td>NO</td>\n",
       "      <td>2007</td>\n",
       "      <td>NO</td>\n",
       "      <td>LAB1</td>\n",
       "      <td>WORKING</td>\n",
       "      <td>No Internet, ram 1 gb, intel r core processor</td>\n",
       "    </tr>\n",
       "    <tr>\n",
       "      <th>27</th>\n",
       "      <td>28</td>\n",
       "      <td>ST 27</td>\n",
       "      <td>YES</td>\n",
       "      <td>WIN 10</td>\n",
       "      <td>NO</td>\n",
       "      <td>YES</td>\n",
       "      <td>NO</td>\n",
       "      <td>YES</td>\n",
       "      <td>NO</td>\n",
       "      <td>2016</td>\n",
       "      <td>NO</td>\n",
       "      <td>LAB 2</td>\n",
       "      <td>WORKING</td>\n",
       "      <td>NaN</td>\n",
       "    </tr>\n",
       "    <tr>\n",
       "      <th>28</th>\n",
       "      <td>29</td>\n",
       "      <td>Monitor: UG 23</td>\n",
       "      <td>NO</td>\n",
       "      <td>WIN 7</td>\n",
       "      <td>NO</td>\n",
       "      <td>YES</td>\n",
       "      <td>NO</td>\n",
       "      <td>YES</td>\n",
       "      <td>NO</td>\n",
       "      <td>2007</td>\n",
       "      <td>NO</td>\n",
       "      <td>LAB 2</td>\n",
       "      <td>WORKING</td>\n",
       "      <td>COMAC ( COMMERCE )  - MONITOR NAME UG 23</td>\n",
       "    </tr>\n",
       "    <tr>\n",
       "      <th>29</th>\n",
       "      <td>30</td>\n",
       "      <td>UG 4</td>\n",
       "      <td>YES</td>\n",
       "      <td>WIN 7</td>\n",
       "      <td>NO</td>\n",
       "      <td>YES</td>\n",
       "      <td>NO</td>\n",
       "      <td>YES</td>\n",
       "      <td>NO</td>\n",
       "      <td>2007</td>\n",
       "      <td>NO</td>\n",
       "      <td>LAB 2</td>\n",
       "      <td>WORKING</td>\n",
       "      <td>NaN</td>\n",
       "    </tr>\n",
       "    <tr>\n",
       "      <th>31</th>\n",
       "      <td>32</td>\n",
       "      <td>UG 20</td>\n",
       "      <td>NO</td>\n",
       "      <td>WIN 7</td>\n",
       "      <td>NO</td>\n",
       "      <td>YES</td>\n",
       "      <td>NO</td>\n",
       "      <td>YES</td>\n",
       "      <td>NO</td>\n",
       "      <td>2007</td>\n",
       "      <td>NO</td>\n",
       "      <td>LAB 2</td>\n",
       "      <td>WORKING</td>\n",
       "      <td>NaN</td>\n",
       "    </tr>\n",
       "    <tr>\n",
       "      <th>32</th>\n",
       "      <td>33</td>\n",
       "      <td>UG 10</td>\n",
       "      <td>NO</td>\n",
       "      <td>WIN 7</td>\n",
       "      <td>NO</td>\n",
       "      <td>YES</td>\n",
       "      <td>NO</td>\n",
       "      <td>YES</td>\n",
       "      <td>NO</td>\n",
       "      <td>2007</td>\n",
       "      <td>NO</td>\n",
       "      <td>LAB 2</td>\n",
       "      <td>WORKING</td>\n",
       "      <td>NaN</td>\n",
       "    </tr>\n",
       "    <tr>\n",
       "      <th>33</th>\n",
       "      <td>34</td>\n",
       "      <td>UG 2</td>\n",
       "      <td>YES</td>\n",
       "      <td>WIN 7</td>\n",
       "      <td>NO</td>\n",
       "      <td>YES</td>\n",
       "      <td>NO</td>\n",
       "      <td>YES</td>\n",
       "      <td>NO</td>\n",
       "      <td>2007</td>\n",
       "      <td>NO</td>\n",
       "      <td>LAB 2</td>\n",
       "      <td>WORKING</td>\n",
       "      <td>NaN</td>\n",
       "    </tr>\n",
       "    <tr>\n",
       "      <th>34</th>\n",
       "      <td>35</td>\n",
       "      <td>ST 20</td>\n",
       "      <td>YES</td>\n",
       "      <td>WIN 10</td>\n",
       "      <td>NO</td>\n",
       "      <td>YES</td>\n",
       "      <td>NO</td>\n",
       "      <td>NO</td>\n",
       "      <td>YES</td>\n",
       "      <td>2010</td>\n",
       "      <td>NO</td>\n",
       "      <td>LAB 2</td>\n",
       "      <td>WORKING</td>\n",
       "      <td>UNLISCENDED PRODUCT</td>\n",
       "    </tr>\n",
       "    <tr>\n",
       "      <th>35</th>\n",
       "      <td>36</td>\n",
       "      <td>ST 19</td>\n",
       "      <td>YES</td>\n",
       "      <td>WIN 10</td>\n",
       "      <td>NO</td>\n",
       "      <td>YES</td>\n",
       "      <td>NO</td>\n",
       "      <td>NO</td>\n",
       "      <td>NO</td>\n",
       "      <td>2007</td>\n",
       "      <td>NO</td>\n",
       "      <td>LAB 2</td>\n",
       "      <td>WORKING</td>\n",
       "      <td>NaN</td>\n",
       "    </tr>\n",
       "    <tr>\n",
       "      <th>36</th>\n",
       "      <td>37</td>\n",
       "      <td>ST 23</td>\n",
       "      <td>YES</td>\n",
       "      <td>WIN 10</td>\n",
       "      <td>NO</td>\n",
       "      <td>YES</td>\n",
       "      <td>NO</td>\n",
       "      <td>NO</td>\n",
       "      <td>NO</td>\n",
       "      <td>2007</td>\n",
       "      <td>NO</td>\n",
       "      <td>LAB 2</td>\n",
       "      <td>WORKING</td>\n",
       "      <td>NaN</td>\n",
       "    </tr>\n",
       "    <tr>\n",
       "      <th>37</th>\n",
       "      <td>38</td>\n",
       "      <td>UG 19</td>\n",
       "      <td>NO</td>\n",
       "      <td>WIN 7</td>\n",
       "      <td>NO</td>\n",
       "      <td>YES</td>\n",
       "      <td>NO</td>\n",
       "      <td>YES</td>\n",
       "      <td>NO</td>\n",
       "      <td>2007</td>\n",
       "      <td>NO</td>\n",
       "      <td>LAB 2</td>\n",
       "      <td>WORKING</td>\n",
       "      <td>NaN</td>\n",
       "    </tr>\n",
       "    <tr>\n",
       "      <th>38</th>\n",
       "      <td>39</td>\n",
       "      <td>ST 26</td>\n",
       "      <td>YES</td>\n",
       "      <td>WIN 10</td>\n",
       "      <td>NO</td>\n",
       "      <td>YES</td>\n",
       "      <td>NO</td>\n",
       "      <td>NO</td>\n",
       "      <td>NO</td>\n",
       "      <td>2007</td>\n",
       "      <td>NO</td>\n",
       "      <td>LAB 2</td>\n",
       "      <td>WORKING</td>\n",
       "      <td>NaN</td>\n",
       "    </tr>\n",
       "    <tr>\n",
       "      <th>40</th>\n",
       "      <td>41</td>\n",
       "      <td>Compaq</td>\n",
       "      <td>NO</td>\n",
       "      <td>WIN 7</td>\n",
       "      <td>NO</td>\n",
       "      <td>YES</td>\n",
       "      <td>NO</td>\n",
       "      <td>YES</td>\n",
       "      <td>NO</td>\n",
       "      <td>2007</td>\n",
       "      <td>NO</td>\n",
       "      <td>LAB 2</td>\n",
       "      <td>WORKING</td>\n",
       "      <td>Pentium CPU, 2 GB RAM</td>\n",
       "    </tr>\n",
       "    <tr>\n",
       "      <th>41</th>\n",
       "      <td>42</td>\n",
       "      <td>Monitor: ST 20</td>\n",
       "      <td>YES</td>\n",
       "      <td>WIN 10</td>\n",
       "      <td>NO</td>\n",
       "      <td>YES</td>\n",
       "      <td>NO</td>\n",
       "      <td>NO</td>\n",
       "      <td>NO</td>\n",
       "      <td>2007</td>\n",
       "      <td>NO</td>\n",
       "      <td>LAB 2</td>\n",
       "      <td>WORKING</td>\n",
       "      <td>Office-Acer</td>\n",
       "    </tr>\n",
       "    <tr>\n",
       "      <th>43</th>\n",
       "      <td>44</td>\n",
       "      <td>PG 22</td>\n",
       "      <td>NO</td>\n",
       "      <td>WIN 7</td>\n",
       "      <td>NO</td>\n",
       "      <td>YES</td>\n",
       "      <td>NO</td>\n",
       "      <td>NO</td>\n",
       "      <td>NO</td>\n",
       "      <td>2007</td>\n",
       "      <td>NO</td>\n",
       "      <td>LAB 2</td>\n",
       "      <td>WORKING</td>\n",
       "      <td>Intel Core 2 Duo, 1 gb ram</td>\n",
       "    </tr>\n",
       "    <tr>\n",
       "      <th>44</th>\n",
       "      <td>45</td>\n",
       "      <td>ST 25</td>\n",
       "      <td>YES</td>\n",
       "      <td>WIN 10</td>\n",
       "      <td>NO</td>\n",
       "      <td>YES</td>\n",
       "      <td>NO</td>\n",
       "      <td>NO</td>\n",
       "      <td>YES</td>\n",
       "      <td>2007</td>\n",
       "      <td>NO</td>\n",
       "      <td>LAB 2</td>\n",
       "      <td>WORKING</td>\n",
       "      <td>NaN</td>\n",
       "    </tr>\n",
       "    <tr>\n",
       "      <th>45</th>\n",
       "      <td>46</td>\n",
       "      <td>PG 12</td>\n",
       "      <td>NO</td>\n",
       "      <td>WIN 8</td>\n",
       "      <td>NO</td>\n",
       "      <td>YES</td>\n",
       "      <td>NO</td>\n",
       "      <td>YES</td>\n",
       "      <td>NO</td>\n",
       "      <td>2007</td>\n",
       "      <td>NO</td>\n",
       "      <td>LAB 2</td>\n",
       "      <td>WORKING</td>\n",
       "      <td>NaN</td>\n",
       "    </tr>\n",
       "    <tr>\n",
       "      <th>46</th>\n",
       "      <td>47</td>\n",
       "      <td>UG 16</td>\n",
       "      <td>NO</td>\n",
       "      <td>WIN 7</td>\n",
       "      <td>NO</td>\n",
       "      <td>YES</td>\n",
       "      <td>NO</td>\n",
       "      <td>YES</td>\n",
       "      <td>NO</td>\n",
       "      <td>2007</td>\n",
       "      <td>NO</td>\n",
       "      <td>LAB 2</td>\n",
       "      <td>WORKING</td>\n",
       "      <td>NaN</td>\n",
       "    </tr>\n",
       "    <tr>\n",
       "      <th>47</th>\n",
       "      <td>48</td>\n",
       "      <td>UG 9</td>\n",
       "      <td>NO</td>\n",
       "      <td>WIN 7</td>\n",
       "      <td>NO</td>\n",
       "      <td>YES</td>\n",
       "      <td>NO</td>\n",
       "      <td>NO</td>\n",
       "      <td>NO</td>\n",
       "      <td>2007</td>\n",
       "      <td>NO</td>\n",
       "      <td>LAB 2</td>\n",
       "      <td>NOT WORKING</td>\n",
       "      <td>NaN</td>\n",
       "    </tr>\n",
       "    <tr>\n",
       "      <th>48</th>\n",
       "      <td>49</td>\n",
       "      <td>UG 27</td>\n",
       "      <td>NO</td>\n",
       "      <td>WIN 7</td>\n",
       "      <td>NO</td>\n",
       "      <td>YES</td>\n",
       "      <td>NO</td>\n",
       "      <td>NO</td>\n",
       "      <td>NO</td>\n",
       "      <td>2007</td>\n",
       "      <td>NO</td>\n",
       "      <td>LAB 2</td>\n",
       "      <td>NOT WORKING</td>\n",
       "      <td>NaN</td>\n",
       "    </tr>\n",
       "    <tr>\n",
       "      <th>49</th>\n",
       "      <td>50</td>\n",
       "      <td>UG 24</td>\n",
       "      <td>NO</td>\n",
       "      <td>WIN 7</td>\n",
       "      <td>NO</td>\n",
       "      <td>YES</td>\n",
       "      <td>NO</td>\n",
       "      <td>NO</td>\n",
       "      <td>NO</td>\n",
       "      <td>2007</td>\n",
       "      <td>NO</td>\n",
       "      <td>LAB 2</td>\n",
       "      <td>NOT WORKING</td>\n",
       "      <td>NaN</td>\n",
       "    </tr>\n",
       "    <tr>\n",
       "      <th>50</th>\n",
       "      <td>51</td>\n",
       "      <td>UG 12</td>\n",
       "      <td>NO</td>\n",
       "      <td>WIN 7</td>\n",
       "      <td>NO</td>\n",
       "      <td>YES</td>\n",
       "      <td>NO</td>\n",
       "      <td>NO</td>\n",
       "      <td>NO</td>\n",
       "      <td>2007</td>\n",
       "      <td>NO</td>\n",
       "      <td>LAB 2</td>\n",
       "      <td>NOT WORKING</td>\n",
       "      <td>NaN</td>\n",
       "    </tr>\n",
       "    <tr>\n",
       "      <th>51</th>\n",
       "      <td>52</td>\n",
       "      <td>UG 29</td>\n",
       "      <td>NO</td>\n",
       "      <td>WIN 7</td>\n",
       "      <td>NO</td>\n",
       "      <td>YES</td>\n",
       "      <td>NO</td>\n",
       "      <td>NO</td>\n",
       "      <td>NO</td>\n",
       "      <td>2007</td>\n",
       "      <td>NO</td>\n",
       "      <td>LAB 2</td>\n",
       "      <td>NOT WORKING</td>\n",
       "      <td>NaN</td>\n",
       "    </tr>\n",
       "    <tr>\n",
       "      <th>52</th>\n",
       "      <td>53</td>\n",
       "      <td>PG 19</td>\n",
       "      <td>NO</td>\n",
       "      <td>WIN 7</td>\n",
       "      <td>NO</td>\n",
       "      <td>YES</td>\n",
       "      <td>NO</td>\n",
       "      <td>NO</td>\n",
       "      <td>NO</td>\n",
       "      <td>2007</td>\n",
       "      <td>NO</td>\n",
       "      <td>LAB 2</td>\n",
       "      <td>NOT WORKING</td>\n",
       "      <td>NaN</td>\n",
       "    </tr>\n",
       "    <tr>\n",
       "      <th>53</th>\n",
       "      <td>54</td>\n",
       "      <td>UG 15</td>\n",
       "      <td>NO</td>\n",
       "      <td>WIN 7</td>\n",
       "      <td>NO</td>\n",
       "      <td>YES</td>\n",
       "      <td>NO</td>\n",
       "      <td>NO</td>\n",
       "      <td>NO</td>\n",
       "      <td>2007</td>\n",
       "      <td>NO</td>\n",
       "      <td>LAB 2</td>\n",
       "      <td>NOT WORKING</td>\n",
       "      <td>NaN</td>\n",
       "    </tr>\n",
       "    <tr>\n",
       "      <th>54</th>\n",
       "      <td>55</td>\n",
       "      <td>UG 26</td>\n",
       "      <td>NO</td>\n",
       "      <td>WIN 7</td>\n",
       "      <td>NO</td>\n",
       "      <td>YES</td>\n",
       "      <td>NO</td>\n",
       "      <td>NO</td>\n",
       "      <td>NO</td>\n",
       "      <td>2007</td>\n",
       "      <td>NO</td>\n",
       "      <td>LAB 2</td>\n",
       "      <td>NOT WORKING</td>\n",
       "      <td>NaN</td>\n",
       "    </tr>\n",
       "    <tr>\n",
       "      <th>55</th>\n",
       "      <td>56</td>\n",
       "      <td>ST 21</td>\n",
       "      <td>NO</td>\n",
       "      <td>WIN 7</td>\n",
       "      <td>NO</td>\n",
       "      <td>YES</td>\n",
       "      <td>NO</td>\n",
       "      <td>NO</td>\n",
       "      <td>NO</td>\n",
       "      <td>2007</td>\n",
       "      <td>NO</td>\n",
       "      <td>LAB 2</td>\n",
       "      <td>NOT WORKING</td>\n",
       "      <td>NaN</td>\n",
       "    </tr>\n",
       "    <tr>\n",
       "      <th>56</th>\n",
       "      <td>57</td>\n",
       "      <td>UG 13</td>\n",
       "      <td>NO</td>\n",
       "      <td>WIN 7</td>\n",
       "      <td>NO</td>\n",
       "      <td>YES</td>\n",
       "      <td>NO</td>\n",
       "      <td>NO</td>\n",
       "      <td>NO</td>\n",
       "      <td>2007</td>\n",
       "      <td>NO</td>\n",
       "      <td>LAB 2</td>\n",
       "      <td>NOT WORKING</td>\n",
       "      <td>NaN</td>\n",
       "    </tr>\n",
       "  </tbody>\n",
       "</table>\n",
       "</div>"
      ],
      "text/plain": [
       "    S.NO          PC NAME WIFI WINDOWS PYTHON C/C++ VISUAL STUDIO LINUX  \\\n",
       "0       1            PG 2   NO   WIN 8    YES   YES            NO   YES   \n",
       "2       3           UG 25   NO   WIN 7    YES   YES            NO   YES   \n",
       "3       4           UG 11  YES   WIN 7     NO   YES            NO   YES   \n",
       "4       5            UG 7   NO   WIN 7     NO   YES            NO   YES   \n",
       "6       7           ST 22  YES  WIN 10     NO   YES            NO    NO   \n",
       "7       8           PG 14   NO   WIN 7    YES   YES            NO   YES   \n",
       "9      10           PG 16   NO   WIN 7     NO   YES            NO   YES   \n",
       "10     11           UG 14  YES   WIN 7     NO   YES            NO   YES   \n",
       "11     12           PG 18   NO      XP     NO   YES            NO   YES   \n",
       "12     13           PG 17   NO      XP     NO   YES            NO   YES   \n",
       "13     14           PG 13   NO   WIN 8    YES   YES            NO   YES   \n",
       "14     15           UG 11  YES   WIN 7    YES   YES            NO   YES   \n",
       "15     16           PG 11   NO   WIN 8    YES   YES            NO   YES   \n",
       "16     17          PG 10    NO   WIN 7    YES   YES            NO    NO   \n",
       "17     18            UG 1  YES   WIN 7    YES   YES            NO    NO   \n",
       "18     19            PG 9   NO   WIN 8    YES   YES            NO   YES   \n",
       "19     20            PG 1   NO   WIN 7     NO   YES            NO    NO   \n",
       "20     21            PG 7  YES   WIN 8     NO   YES            NO   YES   \n",
       "21     22           PG 25   NO      XP     NO   YES            NO    NO   \n",
       "22     23           PG 24   NO      XP     NO   YES            NO    NO   \n",
       "23     24           PG 23   NO      XP     NO   YES            NO    NO   \n",
       "24     25           PG 22   NO   WIN 7     NO   YES            NO   YES   \n",
       "25     26           PG 21   NO      XP     NO   YES            NO    NO   \n",
       "26     27           PG 20   NO   WIN 7     NO   YES            NO   YES   \n",
       "27     28           ST 27  YES  WIN 10     NO   YES            NO   YES   \n",
       "28     29  Monitor: UG 23   NO   WIN 7     NO   YES            NO   YES   \n",
       "29     30            UG 4  YES   WIN 7     NO   YES            NO   YES   \n",
       "31     32           UG 20   NO   WIN 7     NO   YES            NO   YES   \n",
       "32     33          UG 10    NO   WIN 7     NO   YES            NO   YES   \n",
       "33     34            UG 2  YES   WIN 7     NO   YES            NO   YES   \n",
       "34     35           ST 20  YES  WIN 10     NO   YES            NO    NO   \n",
       "35     36          ST 19   YES  WIN 10     NO   YES            NO    NO   \n",
       "36     37           ST 23  YES  WIN 10     NO   YES            NO    NO   \n",
       "37     38           UG 19   NO   WIN 7     NO   YES            NO   YES   \n",
       "38     39           ST 26  YES  WIN 10     NO   YES            NO    NO   \n",
       "40     41          Compaq   NO   WIN 7     NO   YES            NO   YES   \n",
       "41     42  Monitor: ST 20  YES  WIN 10     NO   YES            NO    NO   \n",
       "43     44           PG 22   NO   WIN 7     NO   YES            NO    NO   \n",
       "44     45           ST 25  YES  WIN 10     NO   YES            NO    NO   \n",
       "45     46           PG 12   NO   WIN 8     NO   YES            NO   YES   \n",
       "46     47           UG 16   NO   WIN 7     NO   YES            NO   YES   \n",
       "47     48            UG 9   NO   WIN 7     NO   YES            NO    NO   \n",
       "48     49           UG 27   NO   WIN 7     NO   YES            NO    NO   \n",
       "49     50           UG 24   NO   WIN 7     NO   YES            NO    NO   \n",
       "50     51           UG 12   NO   WIN 7     NO   YES            NO    NO   \n",
       "51     52           UG 29   NO   WIN 7     NO   YES            NO    NO   \n",
       "52     53           PG 19   NO   WIN 7     NO   YES            NO    NO   \n",
       "53     54           UG 15   NO   WIN 7     NO   YES            NO    NO   \n",
       "54     55           UG 26   NO   WIN 7     NO   YES            NO    NO   \n",
       "55     56           ST 21   NO   WIN 7     NO   YES            NO    NO   \n",
       "56     57          UG 13    NO   WIN 7     NO   YES            NO    NO   \n",
       "\n",
       "   PHP/XAMPP  OFFICE MYSQL    LAB       STATUS  \\\n",
       "0         NO    2007    NO   LAB1      WORKING   \n",
       "2         NO    2007    NO   LAB1      WORKING   \n",
       "3         NO    2007    NO   LAB1      WORKING   \n",
       "4         NO    2007    NO   LAB1      WORKING   \n",
       "6        YES    2007    NO  LAB 2      WORKING   \n",
       "7         NO    2007    NO   LAB1      WORKING   \n",
       "9         NO    2007    NO   LAB1      WORKING   \n",
       "10        NO    2007    NO   LAB1      WORKING   \n",
       "11        NO    2007    NO   LAB1      WORKING   \n",
       "12        NO    2007    NO   LAB1      WORKING   \n",
       "13        NO    2007    NO   LAB1      WORKING   \n",
       "14        NO    2007    NO   LAB1      WORKING   \n",
       "15        NO    2007    NO   LAB1      WORKING   \n",
       "16        NO    2007    NO   LAB1      WORKING   \n",
       "17        NO    2007    NO   LAB1      WORKING   \n",
       "18        NO    2007    NO   LAB1      WORKING   \n",
       "19        NO    2007    NO   LAB1      WORKING   \n",
       "20        NO    2007    NO   LAB1      WORKING   \n",
       "21        NO    2007    NO   LAB1      WORKING   \n",
       "22        NO    2007    NO   LAB1      WORKING   \n",
       "23        NO    2007    NO   LAB1      WORKING   \n",
       "24       YES    2007    NO   LAB1      WORKING   \n",
       "25        NO    2007    NO   LAB1      WORKING   \n",
       "26        NO    2007    NO   LAB1      WORKING   \n",
       "27        NO    2016    NO  LAB 2      WORKING   \n",
       "28        NO    2007    NO  LAB 2      WORKING   \n",
       "29        NO    2007    NO  LAB 2      WORKING   \n",
       "31        NO    2007    NO  LAB 2      WORKING   \n",
       "32        NO    2007    NO  LAB 2      WORKING   \n",
       "33        NO    2007    NO  LAB 2      WORKING   \n",
       "34       YES    2010    NO  LAB 2      WORKING   \n",
       "35        NO    2007    NO  LAB 2      WORKING   \n",
       "36        NO    2007    NO  LAB 2      WORKING   \n",
       "37        NO    2007    NO  LAB 2      WORKING   \n",
       "38        NO    2007    NO  LAB 2      WORKING   \n",
       "40        NO    2007    NO  LAB 2      WORKING   \n",
       "41        NO    2007    NO  LAB 2      WORKING   \n",
       "43        NO    2007    NO  LAB 2      WORKING   \n",
       "44       YES    2007    NO  LAB 2      WORKING   \n",
       "45        NO    2007    NO  LAB 2      WORKING   \n",
       "46        NO    2007    NO  LAB 2      WORKING   \n",
       "47        NO    2007    NO  LAB 2  NOT WORKING   \n",
       "48        NO    2007    NO  LAB 2  NOT WORKING   \n",
       "49        NO    2007    NO  LAB 2  NOT WORKING   \n",
       "50        NO    2007    NO  LAB 2  NOT WORKING   \n",
       "51        NO    2007    NO  LAB 2  NOT WORKING   \n",
       "52        NO    2007    NO  LAB 2  NOT WORKING   \n",
       "53        NO    2007    NO  LAB 2  NOT WORKING   \n",
       "54        NO    2007    NO  LAB 2  NOT WORKING   \n",
       "55        NO    2007    NO  LAB 2  NOT WORKING   \n",
       "56        NO    2007    NO  LAB 2  NOT WORKING   \n",
       "\n",
       "                    REMARKS ( BATTRRY UPDATION )   \n",
       "0                                             NaN  \n",
       "2                 CLOCK BEHIND, NO ACCESS TO DATA  \n",
       "3                                             NaN  \n",
       "4                                             NaN  \n",
       "6                                          LAB 2   \n",
       "7                ram 1 gb, intel r core processor  \n",
       "9                                             NaN  \n",
       "10                                            NaN  \n",
       "11                                            NaN  \n",
       "12                                            NaN  \n",
       "13                                            NaN  \n",
       "14                                            NaN  \n",
       "15                                            NaN  \n",
       "16                                            NaN  \n",
       "17                CLOCK BEHIND, NO ACCESS TO DATA  \n",
       "18                                            NaN  \n",
       "19                                    No Internet  \n",
       "20                                            NaN  \n",
       "21  No Internet, ram 1 gb, intel r core processor  \n",
       "22  No Internet, ram 1 gb, intel r core processor  \n",
       "23  No Internet, ram 1 gb, intel r core processor  \n",
       "24  No Internet, ram 1 gb, intel r core processor  \n",
       "25                CLOCK BEHIND, NO ACCESS TO DATA  \n",
       "26  No Internet, ram 1 gb, intel r core processor  \n",
       "27                                            NaN  \n",
       "28       COMAC ( COMMERCE )  - MONITOR NAME UG 23  \n",
       "29                                            NaN  \n",
       "31                                            NaN  \n",
       "32                                            NaN  \n",
       "33                                            NaN  \n",
       "34                            UNLISCENDED PRODUCT  \n",
       "35                                            NaN  \n",
       "36                                            NaN  \n",
       "37                                            NaN  \n",
       "38                                            NaN  \n",
       "40                          Pentium CPU, 2 GB RAM  \n",
       "41                                    Office-Acer  \n",
       "43                     Intel Core 2 Duo, 1 gb ram  \n",
       "44                                            NaN  \n",
       "45                                            NaN  \n",
       "46                                            NaN  \n",
       "47                                            NaN  \n",
       "48                                            NaN  \n",
       "49                                            NaN  \n",
       "50                                            NaN  \n",
       "51                                            NaN  \n",
       "52                                            NaN  \n",
       "53                                            NaN  \n",
       "54                                            NaN  \n",
       "55                                            NaN  \n",
       "56                                            NaN  "
      ]
     },
     "execution_count": 8,
     "metadata": {},
     "output_type": "execute_result"
    }
   ],
   "source": [
    "df[df['C/C++']=='YES']"
   ]
  },
  {
   "cell_type": "code",
   "execution_count": 51,
   "id": "776062e9",
   "metadata": {},
   "outputs": [
    {
     "data": {
      "image/png": "[encoded data removed]",
      "text/plain": [
       "<Figure size 432x288 with 1 Axes>"
      ]
     },
     "metadata": {
      "needs_background": "light"
     },
     "output_type": "display_data"
    }
   ],
   "source": [
    "plt.title('No of Systems with C/C++')\n",
    "sns.countplot(x = df['C/C++'])\n",
    "plt.show()"
   ]
  },
  {
   "cell_type": "markdown",
   "id": "65bbf763",
   "metadata": {},
   "source": [
    "### no of systems containing visual studio:  0"
   ]
  },
  {
   "cell_type": "code",
   "execution_count": 10,
   "id": "db9050a5",
   "metadata": {},
   "outputs": [
    {
     "data": {
      "text/html": [
       "<div>\n",
       "<style scoped>\n",
       "    .dataframe tbody tr th:only-of-type {\n",
       "        vertical-align: middle;\n",
       "    }\n",
       "\n",
       "    .dataframe tbody tr th {\n",
       "        vertical-align: top;\n",
       "    }\n",
       "\n",
       "    .dataframe thead th {\n",
       "        text-align: right;\n",
       "    }\n",
       "</style>\n",
       "<table border=\"1\" class=\"dataframe\">\n",
       "  <thead>\n",
       "    <tr style=\"text-align: right;\">\n",
       "      <th></th>\n",
       "      <th>S.NO</th>\n",
       "      <th>PC NAME</th>\n",
       "      <th>WIFI</th>\n",
       "      <th>WINDOWS</th>\n",
       "      <th>PYTHON</th>\n",
       "      <th>C/C++</th>\n",
       "      <th>VISUAL STUDIO</th>\n",
       "      <th>LINUX</th>\n",
       "      <th>PHP/XAMPP</th>\n",
       "      <th>OFFICE</th>\n",
       "      <th>MYSQL</th>\n",
       "      <th>LAB</th>\n",
       "      <th>STATUS</th>\n",
       "      <th>REMARKS ( BATTRRY UPDATION )</th>\n",
       "    </tr>\n",
       "  </thead>\n",
       "  <tbody>\n",
       "  </tbody>\n",
       "</table>\n",
       "</div>"
      ],
      "text/plain": [
       "Empty DataFrame\n",
       "Columns: [S.NO , PC NAME, WIFI, WINDOWS, PYTHON, C/C++, VISUAL STUDIO, LINUX, PHP/XAMPP, OFFICE, MYSQL, LAB, STATUS, REMARKS ( BATTRRY UPDATION ) ]\n",
       "Index: []"
      ]
     },
     "execution_count": 10,
     "metadata": {},
     "output_type": "execute_result"
    }
   ],
   "source": [
    "df[df['VISUAL STUDIO']=='YES']"
   ]
  },
  {
   "cell_type": "markdown",
   "id": "2b4db128",
   "metadata": {},
   "source": [
    "### no of systems containing PHP : 4"
   ]
  },
  {
   "cell_type": "code",
   "execution_count": 11,
   "id": "4d90380d",
   "metadata": {},
   "outputs": [
    {
     "data": {
      "text/html": [
       "<div>\n",
       "<style scoped>\n",
       "    .dataframe tbody tr th:only-of-type {\n",
       "        vertical-align: middle;\n",
       "    }\n",
       "\n",
       "    .dataframe tbody tr th {\n",
       "        vertical-align: top;\n",
       "    }\n",
       "\n",
       "    .dataframe thead th {\n",
       "        text-align: right;\n",
       "    }\n",
       "</style>\n",
       "<table border=\"1\" class=\"dataframe\">\n",
       "  <thead>\n",
       "    <tr style=\"text-align: right;\">\n",
       "      <th></th>\n",
       "      <th>S.NO</th>\n",
       "      <th>PC NAME</th>\n",
       "      <th>WIFI</th>\n",
       "      <th>WINDOWS</th>\n",
       "      <th>PYTHON</th>\n",
       "      <th>C/C++</th>\n",
       "      <th>VISUAL STUDIO</th>\n",
       "      <th>LINUX</th>\n",
       "      <th>PHP/XAMPP</th>\n",
       "      <th>OFFICE</th>\n",
       "      <th>MYSQL</th>\n",
       "      <th>LAB</th>\n",
       "      <th>STATUS</th>\n",
       "      <th>REMARKS ( BATTRRY UPDATION )</th>\n",
       "    </tr>\n",
       "  </thead>\n",
       "  <tbody>\n",
       "    <tr>\n",
       "      <th>6</th>\n",
       "      <td>7</td>\n",
       "      <td>ST 22</td>\n",
       "      <td>YES</td>\n",
       "      <td>WIN 10</td>\n",
       "      <td>NO</td>\n",
       "      <td>YES</td>\n",
       "      <td>NO</td>\n",
       "      <td>NO</td>\n",
       "      <td>YES</td>\n",
       "      <td>2007</td>\n",
       "      <td>NO</td>\n",
       "      <td>LAB 2</td>\n",
       "      <td>WORKING</td>\n",
       "      <td>LAB 2</td>\n",
       "    </tr>\n",
       "    <tr>\n",
       "      <th>24</th>\n",
       "      <td>25</td>\n",
       "      <td>PG 22</td>\n",
       "      <td>NO</td>\n",
       "      <td>WIN 7</td>\n",
       "      <td>NO</td>\n",
       "      <td>YES</td>\n",
       "      <td>NO</td>\n",
       "      <td>YES</td>\n",
       "      <td>YES</td>\n",
       "      <td>2007</td>\n",
       "      <td>NO</td>\n",
       "      <td>LAB1</td>\n",
       "      <td>WORKING</td>\n",
       "      <td>No Internet, ram 1 gb, intel r core processor</td>\n",
       "    </tr>\n",
       "    <tr>\n",
       "      <th>34</th>\n",
       "      <td>35</td>\n",
       "      <td>ST 20</td>\n",
       "      <td>YES</td>\n",
       "      <td>WIN 10</td>\n",
       "      <td>NO</td>\n",
       "      <td>YES</td>\n",
       "      <td>NO</td>\n",
       "      <td>NO</td>\n",
       "      <td>YES</td>\n",
       "      <td>2010</td>\n",
       "      <td>NO</td>\n",
       "      <td>LAB 2</td>\n",
       "      <td>WORKING</td>\n",
       "      <td>UNLISCENDED PRODUCT</td>\n",
       "    </tr>\n",
       "    <tr>\n",
       "      <th>44</th>\n",
       "      <td>45</td>\n",
       "      <td>ST 25</td>\n",
       "      <td>YES</td>\n",
       "      <td>WIN 10</td>\n",
       "      <td>NO</td>\n",
       "      <td>YES</td>\n",
       "      <td>NO</td>\n",
       "      <td>NO</td>\n",
       "      <td>YES</td>\n",
       "      <td>2007</td>\n",
       "      <td>NO</td>\n",
       "      <td>LAB 2</td>\n",
       "      <td>WORKING</td>\n",
       "      <td>NaN</td>\n",
       "    </tr>\n",
       "  </tbody>\n",
       "</table>\n",
       "</div>"
      ],
      "text/plain": [
       "    S.NO  PC NAME WIFI WINDOWS PYTHON C/C++ VISUAL STUDIO LINUX PHP/XAMPP  \\\n",
       "6       7   ST 22  YES  WIN 10     NO   YES            NO    NO       YES   \n",
       "24     25   PG 22   NO   WIN 7     NO   YES            NO   YES       YES   \n",
       "34     35   ST 20  YES  WIN 10     NO   YES            NO    NO       YES   \n",
       "44     45   ST 25  YES  WIN 10     NO   YES            NO    NO       YES   \n",
       "\n",
       "    OFFICE MYSQL    LAB   STATUS  \\\n",
       "6     2007    NO  LAB 2  WORKING   \n",
       "24    2007    NO   LAB1  WORKING   \n",
       "34    2010    NO  LAB 2  WORKING   \n",
       "44    2007    NO  LAB 2  WORKING   \n",
       "\n",
       "                    REMARKS ( BATTRRY UPDATION )   \n",
       "6                                          LAB 2   \n",
       "24  No Internet, ram 1 gb, intel r core processor  \n",
       "34                            UNLISCENDED PRODUCT  \n",
       "44                                            NaN  "
      ]
     },
     "execution_count": 11,
     "metadata": {},
     "output_type": "execute_result"
    }
   ],
   "source": [
    "df[df['PHP/XAMPP']=='YES']"
   ]
  },
  {
   "cell_type": "code",
   "execution_count": 52,
   "id": "5920b1de",
   "metadata": {},
   "outputs": [
    {
     "data": {
      "image/png": "[encoded data removed]",
      "text/plain": [
       "<Figure size 432x288 with 1 Axes>"
      ]
     },
     "metadata": {
      "needs_background": "light"
     },
     "output_type": "display_data"
    }
   ],
   "source": [
    "plt.title('No of Systems with PHP')\n",
    "sns.countplot(x = df['PHP/XAMPP'])\n",
    "plt.show()"
   ]
  },
  {
   "cell_type": "markdown",
   "id": "dee1a9ab",
   "metadata": {},
   "source": [
    "### pc working with wifi : 15"
   ]
  },
  {
   "cell_type": "code",
   "execution_count": 12,
   "id": "f8e5bc33",
   "metadata": {},
   "outputs": [
    {
     "data": {
      "text/html": [
       "<div>\n",
       "<style scoped>\n",
       "    .dataframe tbody tr th:only-of-type {\n",
       "        vertical-align: middle;\n",
       "    }\n",
       "\n",
       "    .dataframe tbody tr th {\n",
       "        vertical-align: top;\n",
       "    }\n",
       "\n",
       "    .dataframe thead th {\n",
       "        text-align: right;\n",
       "    }\n",
       "</style>\n",
       "<table border=\"1\" class=\"dataframe\">\n",
       "  <thead>\n",
       "    <tr style=\"text-align: right;\">\n",
       "      <th></th>\n",
       "      <th>S.NO</th>\n",
       "      <th>PC NAME</th>\n",
       "      <th>WIFI</th>\n",
       "      <th>WINDOWS</th>\n",
       "      <th>PYTHON</th>\n",
       "      <th>C/C++</th>\n",
       "      <th>VISUAL STUDIO</th>\n",
       "      <th>LINUX</th>\n",
       "      <th>PHP/XAMPP</th>\n",
       "      <th>OFFICE</th>\n",
       "      <th>MYSQL</th>\n",
       "      <th>LAB</th>\n",
       "      <th>STATUS</th>\n",
       "      <th>REMARKS ( BATTRRY UPDATION )</th>\n",
       "    </tr>\n",
       "  </thead>\n",
       "  <tbody>\n",
       "    <tr>\n",
       "      <th>3</th>\n",
       "      <td>4</td>\n",
       "      <td>UG 11</td>\n",
       "      <td>YES</td>\n",
       "      <td>WIN 7</td>\n",
       "      <td>NO</td>\n",
       "      <td>YES</td>\n",
       "      <td>NO</td>\n",
       "      <td>YES</td>\n",
       "      <td>NO</td>\n",
       "      <td>2007</td>\n",
       "      <td>NO</td>\n",
       "      <td>LAB1</td>\n",
       "      <td>WORKING</td>\n",
       "      <td>NaN</td>\n",
       "    </tr>\n",
       "    <tr>\n",
       "      <th>6</th>\n",
       "      <td>7</td>\n",
       "      <td>ST 22</td>\n",
       "      <td>YES</td>\n",
       "      <td>WIN 10</td>\n",
       "      <td>NO</td>\n",
       "      <td>YES</td>\n",
       "      <td>NO</td>\n",
       "      <td>NO</td>\n",
       "      <td>YES</td>\n",
       "      <td>2007</td>\n",
       "      <td>NO</td>\n",
       "      <td>LAB 2</td>\n",
       "      <td>WORKING</td>\n",
       "      <td>LAB 2</td>\n",
       "    </tr>\n",
       "    <tr>\n",
       "      <th>10</th>\n",
       "      <td>11</td>\n",
       "      <td>UG 14</td>\n",
       "      <td>YES</td>\n",
       "      <td>WIN 7</td>\n",
       "      <td>NO</td>\n",
       "      <td>YES</td>\n",
       "      <td>NO</td>\n",
       "      <td>YES</td>\n",
       "      <td>NO</td>\n",
       "      <td>2007</td>\n",
       "      <td>NO</td>\n",
       "      <td>LAB1</td>\n",
       "      <td>WORKING</td>\n",
       "      <td>NaN</td>\n",
       "    </tr>\n",
       "    <tr>\n",
       "      <th>14</th>\n",
       "      <td>15</td>\n",
       "      <td>UG 11</td>\n",
       "      <td>YES</td>\n",
       "      <td>WIN 7</td>\n",
       "      <td>YES</td>\n",
       "      <td>YES</td>\n",
       "      <td>NO</td>\n",
       "      <td>YES</td>\n",
       "      <td>NO</td>\n",
       "      <td>2007</td>\n",
       "      <td>NO</td>\n",
       "      <td>LAB1</td>\n",
       "      <td>WORKING</td>\n",
       "      <td>NaN</td>\n",
       "    </tr>\n",
       "    <tr>\n",
       "      <th>17</th>\n",
       "      <td>18</td>\n",
       "      <td>UG 1</td>\n",
       "      <td>YES</td>\n",
       "      <td>WIN 7</td>\n",
       "      <td>YES</td>\n",
       "      <td>YES</td>\n",
       "      <td>NO</td>\n",
       "      <td>NO</td>\n",
       "      <td>NO</td>\n",
       "      <td>2007</td>\n",
       "      <td>NO</td>\n",
       "      <td>LAB1</td>\n",
       "      <td>WORKING</td>\n",
       "      <td>CLOCK BEHIND, NO ACCESS TO DATA</td>\n",
       "    </tr>\n",
       "    <tr>\n",
       "      <th>20</th>\n",
       "      <td>21</td>\n",
       "      <td>PG 7</td>\n",
       "      <td>YES</td>\n",
       "      <td>WIN 8</td>\n",
       "      <td>NO</td>\n",
       "      <td>YES</td>\n",
       "      <td>NO</td>\n",
       "      <td>YES</td>\n",
       "      <td>NO</td>\n",
       "      <td>2007</td>\n",
       "      <td>NO</td>\n",
       "      <td>LAB1</td>\n",
       "      <td>WORKING</td>\n",
       "      <td>NaN</td>\n",
       "    </tr>\n",
       "    <tr>\n",
       "      <th>27</th>\n",
       "      <td>28</td>\n",
       "      <td>ST 27</td>\n",
       "      <td>YES</td>\n",
       "      <td>WIN 10</td>\n",
       "      <td>NO</td>\n",
       "      <td>YES</td>\n",
       "      <td>NO</td>\n",
       "      <td>YES</td>\n",
       "      <td>NO</td>\n",
       "      <td>2016</td>\n",
       "      <td>NO</td>\n",
       "      <td>LAB 2</td>\n",
       "      <td>WORKING</td>\n",
       "      <td>NaN</td>\n",
       "    </tr>\n",
       "    <tr>\n",
       "      <th>29</th>\n",
       "      <td>30</td>\n",
       "      <td>UG 4</td>\n",
       "      <td>YES</td>\n",
       "      <td>WIN 7</td>\n",
       "      <td>NO</td>\n",
       "      <td>YES</td>\n",
       "      <td>NO</td>\n",
       "      <td>YES</td>\n",
       "      <td>NO</td>\n",
       "      <td>2007</td>\n",
       "      <td>NO</td>\n",
       "      <td>LAB 2</td>\n",
       "      <td>WORKING</td>\n",
       "      <td>NaN</td>\n",
       "    </tr>\n",
       "    <tr>\n",
       "      <th>33</th>\n",
       "      <td>34</td>\n",
       "      <td>UG 2</td>\n",
       "      <td>YES</td>\n",
       "      <td>WIN 7</td>\n",
       "      <td>NO</td>\n",
       "      <td>YES</td>\n",
       "      <td>NO</td>\n",
       "      <td>YES</td>\n",
       "      <td>NO</td>\n",
       "      <td>2007</td>\n",
       "      <td>NO</td>\n",
       "      <td>LAB 2</td>\n",
       "      <td>WORKING</td>\n",
       "      <td>NaN</td>\n",
       "    </tr>\n",
       "    <tr>\n",
       "      <th>34</th>\n",
       "      <td>35</td>\n",
       "      <td>ST 20</td>\n",
       "      <td>YES</td>\n",
       "      <td>WIN 10</td>\n",
       "      <td>NO</td>\n",
       "      <td>YES</td>\n",
       "      <td>NO</td>\n",
       "      <td>NO</td>\n",
       "      <td>YES</td>\n",
       "      <td>2010</td>\n",
       "      <td>NO</td>\n",
       "      <td>LAB 2</td>\n",
       "      <td>WORKING</td>\n",
       "      <td>UNLISCENDED PRODUCT</td>\n",
       "    </tr>\n",
       "    <tr>\n",
       "      <th>35</th>\n",
       "      <td>36</td>\n",
       "      <td>ST 19</td>\n",
       "      <td>YES</td>\n",
       "      <td>WIN 10</td>\n",
       "      <td>NO</td>\n",
       "      <td>YES</td>\n",
       "      <td>NO</td>\n",
       "      <td>NO</td>\n",
       "      <td>NO</td>\n",
       "      <td>2007</td>\n",
       "      <td>NO</td>\n",
       "      <td>LAB 2</td>\n",
       "      <td>WORKING</td>\n",
       "      <td>NaN</td>\n",
       "    </tr>\n",
       "    <tr>\n",
       "      <th>36</th>\n",
       "      <td>37</td>\n",
       "      <td>ST 23</td>\n",
       "      <td>YES</td>\n",
       "      <td>WIN 10</td>\n",
       "      <td>NO</td>\n",
       "      <td>YES</td>\n",
       "      <td>NO</td>\n",
       "      <td>NO</td>\n",
       "      <td>NO</td>\n",
       "      <td>2007</td>\n",
       "      <td>NO</td>\n",
       "      <td>LAB 2</td>\n",
       "      <td>WORKING</td>\n",
       "      <td>NaN</td>\n",
       "    </tr>\n",
       "    <tr>\n",
       "      <th>38</th>\n",
       "      <td>39</td>\n",
       "      <td>ST 26</td>\n",
       "      <td>YES</td>\n",
       "      <td>WIN 10</td>\n",
       "      <td>NO</td>\n",
       "      <td>YES</td>\n",
       "      <td>NO</td>\n",
       "      <td>NO</td>\n",
       "      <td>NO</td>\n",
       "      <td>2007</td>\n",
       "      <td>NO</td>\n",
       "      <td>LAB 2</td>\n",
       "      <td>WORKING</td>\n",
       "      <td>NaN</td>\n",
       "    </tr>\n",
       "    <tr>\n",
       "      <th>41</th>\n",
       "      <td>42</td>\n",
       "      <td>Monitor: ST 20</td>\n",
       "      <td>YES</td>\n",
       "      <td>WIN 10</td>\n",
       "      <td>NO</td>\n",
       "      <td>YES</td>\n",
       "      <td>NO</td>\n",
       "      <td>NO</td>\n",
       "      <td>NO</td>\n",
       "      <td>2007</td>\n",
       "      <td>NO</td>\n",
       "      <td>LAB 2</td>\n",
       "      <td>WORKING</td>\n",
       "      <td>Office-Acer</td>\n",
       "    </tr>\n",
       "    <tr>\n",
       "      <th>44</th>\n",
       "      <td>45</td>\n",
       "      <td>ST 25</td>\n",
       "      <td>YES</td>\n",
       "      <td>WIN 10</td>\n",
       "      <td>NO</td>\n",
       "      <td>YES</td>\n",
       "      <td>NO</td>\n",
       "      <td>NO</td>\n",
       "      <td>YES</td>\n",
       "      <td>2007</td>\n",
       "      <td>NO</td>\n",
       "      <td>LAB 2</td>\n",
       "      <td>WORKING</td>\n",
       "      <td>NaN</td>\n",
       "    </tr>\n",
       "  </tbody>\n",
       "</table>\n",
       "</div>"
      ],
      "text/plain": [
       "    S.NO          PC NAME WIFI WINDOWS PYTHON C/C++ VISUAL STUDIO LINUX  \\\n",
       "3       4           UG 11  YES   WIN 7     NO   YES            NO   YES   \n",
       "6       7           ST 22  YES  WIN 10     NO   YES            NO    NO   \n",
       "10     11           UG 14  YES   WIN 7     NO   YES            NO   YES   \n",
       "14     15           UG 11  YES   WIN 7    YES   YES            NO   YES   \n",
       "17     18            UG 1  YES   WIN 7    YES   YES            NO    NO   \n",
       "20     21            PG 7  YES   WIN 8     NO   YES            NO   YES   \n",
       "27     28           ST 27  YES  WIN 10     NO   YES            NO   YES   \n",
       "29     30            UG 4  YES   WIN 7     NO   YES            NO   YES   \n",
       "33     34            UG 2  YES   WIN 7     NO   YES            NO   YES   \n",
       "34     35           ST 20  YES  WIN 10     NO   YES            NO    NO   \n",
       "35     36          ST 19   YES  WIN 10     NO   YES            NO    NO   \n",
       "36     37           ST 23  YES  WIN 10     NO   YES            NO    NO   \n",
       "38     39           ST 26  YES  WIN 10     NO   YES            NO    NO   \n",
       "41     42  Monitor: ST 20  YES  WIN 10     NO   YES            NO    NO   \n",
       "44     45           ST 25  YES  WIN 10     NO   YES            NO    NO   \n",
       "\n",
       "   PHP/XAMPP  OFFICE MYSQL    LAB   STATUS    REMARKS ( BATTRRY UPDATION )   \n",
       "3         NO    2007    NO   LAB1  WORKING                              NaN  \n",
       "6        YES    2007    NO  LAB 2  WORKING                           LAB 2   \n",
       "10        NO    2007    NO   LAB1  WORKING                              NaN  \n",
       "14        NO    2007    NO   LAB1  WORKING                              NaN  \n",
       "17        NO    2007    NO   LAB1  WORKING  CLOCK BEHIND, NO ACCESS TO DATA  \n",
       "20        NO    2007    NO   LAB1  WORKING                              NaN  \n",
       "27        NO    2016    NO  LAB 2  WORKING                              NaN  \n",
       "29        NO    2007    NO  LAB 2  WORKING                              NaN  \n",
       "33        NO    2007    NO  LAB 2  WORKING                              NaN  \n",
       "34       YES    2010    NO  LAB 2  WORKING              UNLISCENDED PRODUCT  \n",
       "35        NO    2007    NO  LAB 2  WORKING                              NaN  \n",
       "36        NO    2007    NO  LAB 2  WORKING                              NaN  \n",
       "38        NO    2007    NO  LAB 2  WORKING                              NaN  \n",
       "41        NO    2007    NO  LAB 2  WORKING                      Office-Acer  \n",
       "44       YES    2007    NO  LAB 2  WORKING                              NaN  "
      ]
     },
     "execution_count": 12,
     "metadata": {},
     "output_type": "execute_result"
    }
   ],
   "source": [
    "df[df['WIFI']=='YES']"
   ]
  },
  {
   "cell_type": "code",
   "execution_count": 54,
   "id": "75c0ac37",
   "metadata": {},
   "outputs": [
    {
     "data": {
      "image/png": "[encoded data removed]",
      "text/plain": [
       "<Figure size 432x288 with 1 Axes>"
      ]
     },
     "metadata": {
      "needs_background": "light"
     },
     "output_type": "display_data"
    }
   ],
   "source": [
    "plt.title('No of Systems with Wifi')\n",
    "sns.countplot(x = df['WIFI'])\n",
    "plt.show()"
   ]
  },
  {
   "cell_type": "code",
   "execution_count": 39,
   "id": "c3bc4ef4",
   "metadata": {},
   "outputs": [
    {
     "name": "stdout",
     "output_type": "stream",
     "text": [
      "S.NO  Count :  0\n",
      "PC NAME Count :  0\n",
      "WIFI Count :  15\n",
      "WINDOWS Count :  0\n",
      "PYTHON Count :  9\n",
      "C/C++ Count :  51\n",
      "VISUAL STUDIO Count :  0\n",
      "LINUX Count :  28\n",
      "PHP/XAMPP Count :  4\n",
      "OFFICE Count :  0\n",
      "MYSQL Count :  0\n",
      "LAB Count :  0\n",
      "STATUS Count :  0\n",
      "REMARKS ( BATTRRY UPDATION )  Count :  0\n"
     ]
    }
   ],
   "source": [
    "for i in df.columns:\n",
    "        print(i, 'Count : ',df[df[i]=='YES'].shape[0])"
   ]
  },
  {
   "cell_type": "code",
   "execution_count": 42,
   "id": "90bdb932",
   "metadata": {},
   "outputs": [
    {
     "data": {
      "text/html": [
       "<div>\n",
       "<style scoped>\n",
       "    .dataframe tbody tr th:only-of-type {\n",
       "        vertical-align: middle;\n",
       "    }\n",
       "\n",
       "    .dataframe tbody tr th {\n",
       "        vertical-align: top;\n",
       "    }\n",
       "\n",
       "    .dataframe thead th {\n",
       "        text-align: right;\n",
       "    }\n",
       "</style>\n",
       "<table border=\"1\" class=\"dataframe\">\n",
       "  <thead>\n",
       "    <tr style=\"text-align: right;\">\n",
       "      <th></th>\n",
       "      <th>WIN 7</th>\n",
       "      <th>WIN 10</th>\n",
       "      <th>WIN 8</th>\n",
       "      <th>XP</th>\n",
       "      <th>UBUNTU</th>\n",
       "    </tr>\n",
       "  </thead>\n",
       "  <tbody>\n",
       "    <tr>\n",
       "      <th>WINDOWS</th>\n",
       "      <td>35</td>\n",
       "      <td>8</td>\n",
       "      <td>7</td>\n",
       "      <td>6</td>\n",
       "      <td>1</td>\n",
       "    </tr>\n",
       "  </tbody>\n",
       "</table>\n",
       "</div>"
      ],
      "text/plain": [
       "         WIN 7  WIN 10  WIN 8  XP  UBUNTU\n",
       "WINDOWS     35       8      7   6       1"
      ]
     },
     "execution_count": 42,
     "metadata": {},
     "output_type": "execute_result"
    }
   ],
   "source": [
    "pd.DataFrame(df['WINDOWS'].value_counts()).T"
   ]
  },
  {
   "cell_type": "code",
   "execution_count": 34,
   "id": "f7499a13",
   "metadata": {},
   "outputs": [
    {
     "data": {
      "application/vnd.plotly.v1+json": {
       "config": {
        "plotlyServerURL": "https://plot.ly"
       },
       "data": [
        {
         "alignmentgroup": "True",
         "hovertemplate": "<b>%{hovertext}</b><br><br>WINDOWS=%{x}<br>count=%{y}<extra></extra>",
         "hovertext": [
          "WIN 8",
          "WIN 7",
          "WIN 7",
          "WIN 7",
          "WIN 7",
          "UBUNTU",
          "WIN 10",
          "WIN 7",
          "WIN 7",
          "WIN 7",
          "WIN 7",
          "XP",
          "XP",
          "WIN 8",
          "WIN 7",
          "WIN 8",
          "WIN 7",
          "WIN 7",
          "WIN 8",
          "WIN 7",
          "WIN 8",
          "XP",
          "XP",
          "XP",
          "WIN 7",
          "XP",
          "WIN 7",
          "WIN 10",
          "WIN 7",
          "WIN 7",
          "WIN 7",
          "WIN 7",
          "WIN 7",
          "WIN 7",
          "WIN 10",
          "WIN 10",
          "WIN 10",
          "WIN 7",
          "WIN 10",
          "WIN 8",
          "WIN 7",
          "WIN 10",
          "WIN 7",
          "WIN 7",
          "WIN 10",
          "WIN 8",
          "WIN 7",
          "WIN 7",
          "WIN 7",
          "WIN 7",
          "WIN 7",
          "WIN 7",
          "WIN 7",
          "WIN 7",
          "WIN 7",
          "WIN 7",
          "WIN 7"
         ],
         "legendgroup": "",
         "marker": {
          "color": "#636efa"
         },
         "name": "",
         "offsetgroup": "",
         "orientation": "v",
         "showlegend": false,
         "textposition": "auto",
         "type": "bar",
         "x": [
          "WIN 8",
          "WIN 7",
          "WIN 7",
          "WIN 7",
          "WIN 7",
          "UBUNTU",
          "WIN 10",
          "WIN 7",
          "WIN 7",
          "WIN 7",
          "WIN 7",
          "XP",
          "XP",
          "WIN 8",
          "WIN 7",
          "WIN 8",
          "WIN 7",
          "WIN 7",
          "WIN 8",
          "WIN 7",
          "WIN 8",
          "XP",
          "XP",
          "XP",
          "WIN 7",
          "XP",
          "WIN 7",
          "WIN 10",
          "WIN 7",
          "WIN 7",
          "WIN 7",
          "WIN 7",
          "WIN 7",
          "WIN 7",
          "WIN 10",
          "WIN 10",
          "WIN 10",
          "WIN 7",
          "WIN 10",
          "WIN 8",
          "WIN 7",
          "WIN 10",
          "WIN 7",
          "WIN 7",
          "WIN 10",
          "WIN 8",
          "WIN 7",
          "WIN 7",
          "WIN 7",
          "WIN 7",
          "WIN 7",
          "WIN 7",
          "WIN 7",
          "WIN 7",
          "WIN 7",
          "WIN 7",
          "WIN 7"
         ],
         "xaxis": "x",
         "y": [
          1,
          1,
          1,
          1,
          1,
          1,
          1,
          1,
          1,
          1,
          1,
          1,
          1,
          1,
          1,
          1,
          1,
          1,
          1,
          1,
          1,
          1,
          1,
          1,
          1,
          1,
          1,
          1,
          1,
          1,
          1,
          1,
          1,
          1,
          1,
          1,
          1,
          1,
          1,
          1,
          1,
          1,
          1,
          1,
          1,
          1,
          1,
          1,
          1,
          1,
          1,
          1,
          1,
          1,
          1,
          1,
          1
         ],
         "yaxis": "y"
        }
       ],
       "layout": {
        "barmode": "relative",
        "legend": {
         "tracegroupgap": 0
        },
        "template": {
         "data": {
          "bar": [
           {
            "error_x": {
             "color": "#2a3f5f"
            },
            "error_y": {
             "color": "#2a3f5f"
            },
            "marker": {
             "line": {
              "color": "#E5ECF6",
              "width": 0.5
             }
            },
            "type": "bar"
           }
          ],
          "barpolar": [
           {
            "marker": {
             "line": {
              "color": "#E5ECF6",
              "width": 0.5
             }
            },
            "type": "barpolar"
           }
          ],
          "carpet": [
           {
            "aaxis": {
             "endlinecolor": "#2a3f5f",
             "gridcolor": "white",
             "linecolor": "white",
             "minorgridcolor": "white",
             "startlinecolor": "#2a3f5f"
            },
            "baxis": {
             "endlinecolor": "#2a3f5f",
             "gridcolor": "white",
             "linecolor": "white",
             "minorgridcolor": "white",
             "startlinecolor": "#2a3f5f"
            },
            "type": "carpet"
           }
          ],
          "choropleth": [
           {
            "colorbar": {
             "outlinewidth": 0,
             "ticks": ""
            },
            "type": "choropleth"
           }
          ],
          "contour": [
           {
            "colorbar": {
             "outlinewidth": 0,
             "ticks": ""
            },
            "colorscale": [
             [
              0,
              "#0d0887"
             ],
             [
              0.1111111111111111,
              "#46039f"
             ],
             [
              0.2222222222222222,
              "#7201a8"
             ],
             [
              0.3333333333333333,
              "#9c179e"
             ],
             [
              0.4444444444444444,
              "#bd3786"
             ],
             [
              0.5555555555555556,
              "#d8576b"
             ],
             [
              0.6666666666666666,
              "#ed7953"
             ],
             [
              0.7777777777777778,
              "#fb9f3a"
             ],
             [
              0.8888888888888888,
              "#fdca26"
             ],
             [
              1,
              "#f0f921"
             ]
            ],
            "type": "contour"
           }
          ],
          "contourcarpet": [
           {
            "colorbar": {
             "outlinewidth": 0,
             "ticks": ""
            },
            "type": "contourcarpet"
           }
          ],
          "heatmap": [
           {
            "colorbar": {
             "outlinewidth": 0,
             "ticks": ""
            },
            "colorscale": [
             [
              0,
              "#0d0887"
             ],
             [
              0.1111111111111111,
              "#46039f"
             ],
             [
              0.2222222222222222,
              "#7201a8"
             ],
             [
              0.3333333333333333,
              "#9c179e"
             ],
             [
              0.4444444444444444,
              "#bd3786"
             ],
             [
              0.5555555555555556,
              "#d8576b"
             ],
             [
              0.6666666666666666,
              "#ed7953"
             ],
             [
              0.7777777777777778,
              "#fb9f3a"
             ],
             [
              0.8888888888888888,
              "#fdca26"
             ],
             [
              1,
              "#f0f921"
             ]
            ],
            "type": "heatmap"
           }
          ],
          "heatmapgl": [
           {
            "colorbar": {
             "outlinewidth": 0,
             "ticks": ""
            },
            "colorscale": [
             [
              0,
              "#0d0887"
             ],
             [
              0.1111111111111111,
              "#46039f"
             ],
             [
              0.2222222222222222,
              "#7201a8"
             ],
             [
              0.3333333333333333,
              "#9c179e"
             ],
             [
              0.4444444444444444,
              "#bd3786"
             ],
             [
              0.5555555555555556,
              "#d8576b"
             ],
             [
              0.6666666666666666,
              "#ed7953"
             ],
             [
              0.7777777777777778,
              "#fb9f3a"
             ],
             [
              0.8888888888888888,
              "#fdca26"
             ],
             [
              1,
              "#f0f921"
             ]
            ],
            "type": "heatmapgl"
           }
          ],
          "histogram": [
           {
            "marker": {
             "colorbar": {
              "outlinewidth": 0,
              "ticks": ""
             }
            },
            "type": "histogram"
           }
          ],
          "histogram2d": [
           {
            "colorbar": {
             "outlinewidth": 0,
             "ticks": ""
            },
            "colorscale": [
             [
              0,
              "#0d0887"
             ],
             [
              0.1111111111111111,
              "#46039f"
             ],
             [
              0.2222222222222222,
              "#7201a8"
             ],
             [
              0.3333333333333333,
              "#9c179e"
             ],
             [
              0.4444444444444444,
              "#bd3786"
             ],
             [
              0.5555555555555556,
              "#d8576b"
             ],
             [
              0.6666666666666666,
              "#ed7953"
             ],
             [
              0.7777777777777778,
              "#fb9f3a"
             ],
             [
              0.8888888888888888,
              "#fdca26"
             ],
             [
              1,
              "#f0f921"
             ]
            ],
            "type": "histogram2d"
           }
          ],
          "histogram2dcontour": [
           {
            "colorbar": {
             "outlinewidth": 0,
             "ticks": ""
            },
            "colorscale": [
             [
              0,
              "#0d0887"
             ],
             [
              0.1111111111111111,
              "#46039f"
             ],
             [
              0.2222222222222222,
              "#7201a8"
             ],
             [
              0.3333333333333333,
              "#9c179e"
             ],
             [
              0.4444444444444444,
              "#bd3786"
             ],
             [
              0.5555555555555556,
              "#d8576b"
             ],
             [
              0.6666666666666666,
              "#ed7953"
             ],
             [
              0.7777777777777778,
              "#fb9f3a"
             ],
             [
              0.8888888888888888,
              "#fdca26"
             ],
             [
              1,
              "#f0f921"
             ]
            ],
            "type": "histogram2dcontour"
           }
          ],
          "mesh3d": [
           {
            "colorbar": {
             "outlinewidth": 0,
             "ticks": ""
            },
            "type": "mesh3d"
           }
          ],
          "parcoords": [
           {
            "line": {
             "colorbar": {
              "outlinewidth": 0,
              "ticks": ""
             }
            },
            "type": "parcoords"
           }
          ],
          "pie": [
           {
            "automargin": true,
            "type": "pie"
           }
          ],
          "scatter": [
           {
            "marker": {
             "colorbar": {
              "outlinewidth": 0,
              "ticks": ""
             }
            },
            "type": "scatter"
           }
          ],
          "scatter3d": [
           {
            "line": {
             "colorbar": {
              "outlinewidth": 0,
              "ticks": ""
             }
            },
            "marker": {
             "colorbar": {
              "outlinewidth": 0,
              "ticks": ""
             }
            },
            "type": "scatter3d"
           }
          ],
          "scattercarpet": [
           {
            "marker": {
             "colorbar": {
              "outlinewidth": 0,
              "ticks": ""
             }
            },
            "type": "scattercarpet"
           }
          ],
          "scattergeo": [
           {
            "marker": {
             "colorbar": {
              "outlinewidth": 0,
              "ticks": ""
             }
            },
            "type": "scattergeo"
           }
          ],
          "scattergl": [
           {
            "marker": {
             "colorbar": {
              "outlinewidth": 0,
              "ticks": ""
             }
            },
            "type": "scattergl"
           }
          ],
          "scattermapbox": [
           {
            "marker": {
             "colorbar": {
              "outlinewidth": 0,
              "ticks": ""
             }
            },
            "type": "scattermapbox"
           }
          ],
          "scatterpolar": [
           {
            "marker": {
             "colorbar": {
              "outlinewidth": 0,
              "ticks": ""
             }
            },
            "type": "scatterpolar"
           }
          ],
          "scatterpolargl": [
           {
            "marker": {
             "colorbar": {
              "outlinewidth": 0,
              "ticks": ""
             }
            },
            "type": "scatterpolargl"
           }
          ],
          "scatterternary": [
           {
            "marker": {
             "colorbar": {
              "outlinewidth": 0,
              "ticks": ""
             }
            },
            "type": "scatterternary"
           }
          ],
          "surface": [
           {
            "colorbar": {
             "outlinewidth": 0,
             "ticks": ""
            },
            "colorscale": [
             [
              0,
              "#0d0887"
             ],
             [
              0.1111111111111111,
              "#46039f"
             ],
             [
              0.2222222222222222,
              "#7201a8"
             ],
             [
              0.3333333333333333,
              "#9c179e"
             ],
             [
              0.4444444444444444,
              "#bd3786"
             ],
             [
              0.5555555555555556,
              "#d8576b"
             ],
             [
              0.6666666666666666,
              "#ed7953"
             ],
             [
              0.7777777777777778,
              "#fb9f3a"
             ],
             [
              0.8888888888888888,
              "#fdca26"
             ],
             [
              1,
              "#f0f921"
             ]
            ],
            "type": "surface"
           }
          ],
          "table": [
           {
            "cells": {
             "fill": {
              "color": "#EBF0F8"
             },
             "line": {
              "color": "white"
             }
            },
            "header": {
             "fill": {
              "color": "#C8D4E3"
             },
             "line": {
              "color": "white"
             }
            },
            "type": "table"
           }
          ]
         },
         "layout": {
          "annotationdefaults": {
           "arrowcolor": "#2a3f5f",
           "arrowhead": 0,
           "arrowwidth": 1
          },
          "autotypenumbers": "strict",
          "coloraxis": {
           "colorbar": {
            "outlinewidth": 0,
            "ticks": ""
           }
          },
          "colorscale": {
           "diverging": [
            [
             0,
             "#8e0152"
            ],
            [
             0.1,
             "#c51b7d"
            ],
            [
             0.2,
             "#de77ae"
            ],
            [
             0.3,
             "#f1b6da"
            ],
            [
             0.4,
             "#fde0ef"
            ],
            [
             0.5,
             "#f7f7f7"
            ],
            [
             0.6,
             "#e6f5d0"
            ],
            [
             0.7,
             "#b8e186"
            ],
            [
             0.8,
             "#7fbc41"
            ],
            [
             0.9,
             "#4d9221"
            ],
            [
             1,
             "#276419"
            ]
           ],
           "sequential": [
            [
             0,
             "#0d0887"
            ],
            [
             0.1111111111111111,
             "#46039f"
            ],
            [
             0.2222222222222222,
             "#7201a8"
            ],
            [
             0.3333333333333333,
             "#9c179e"
            ],
            [
             0.4444444444444444,
             "#bd3786"
            ],
            [
             0.5555555555555556,
             "#d8576b"
            ],
            [
             0.6666666666666666,
             "#ed7953"
            ],
            [
             0.7777777777777778,
             "#fb9f3a"
            ],
            [
             0.8888888888888888,
             "#fdca26"
            ],
            [
             1,
             "#f0f921"
            ]
           ],
           "sequentialminus": [
            [
             0,
             "#0d0887"
            ],
            [
             0.1111111111111111,
             "#46039f"
            ],
            [
             0.2222222222222222,
             "#7201a8"
            ],
            [
             0.3333333333333333,
             "#9c179e"
            ],
            [
             0.4444444444444444,
             "#bd3786"
            ],
            [
             0.5555555555555556,
             "#d8576b"
            ],
            [
             0.6666666666666666,
             "#ed7953"
            ],
            [
             0.7777777777777778,
             "#fb9f3a"
            ],
            [
             0.8888888888888888,
             "#fdca26"
            ],
            [
             1,
             "#f0f921"
            ]
           ]
          },
          "colorway": [
           "#636efa",
           "#EF553B",
           "#00cc96",
           "#ab63fa",
           "#FFA15A",
           "#19d3f3",
           "#FF6692",
           "#B6E880",
           "#FF97FF",
           "#FECB52"
          ],
          "font": {
           "color": "#2a3f5f"
          },
          "geo": {
           "bgcolor": "white",
           "lakecolor": "white",
           "landcolor": "#E5ECF6",
           "showlakes": true,
           "showland": true,
           "subunitcolor": "white"
          },
          "hoverlabel": {
           "align": "left"
          },
          "hovermode": "closest",
          "mapbox": {
           "style": "light"
          },
          "paper_bgcolor": "white",
          "plot_bgcolor": "#E5ECF6",
          "polar": {
           "angularaxis": {
            "gridcolor": "white",
            "linecolor": "white",
            "ticks": ""
           },
           "bgcolor": "#E5ECF6",
           "radialaxis": {
            "gridcolor": "white",
            "linecolor": "white",
            "ticks": ""
           }
          },
          "scene": {
           "xaxis": {
            "backgroundcolor": "#E5ECF6",
            "gridcolor": "white",
            "gridwidth": 2,
            "linecolor": "white",
            "showbackground": true,
            "ticks": "",
            "zerolinecolor": "white"
           },
           "yaxis": {
            "backgroundcolor": "#E5ECF6",
            "gridcolor": "white",
            "gridwidth": 2,
            "linecolor": "white",
            "showbackground": true,
            "ticks": "",
            "zerolinecolor": "white"
           },
           "zaxis": {
            "backgroundcolor": "#E5ECF6",
            "gridcolor": "white",
            "gridwidth": 2,
            "linecolor": "white",
            "showbackground": true,
            "ticks": "",
            "zerolinecolor": "white"
           }
          },
          "shapedefaults": {
           "line": {
            "color": "#2a3f5f"
           }
          },
          "ternary": {
           "aaxis": {
            "gridcolor": "white",
            "linecolor": "white",
            "ticks": ""
           },
           "baxis": {
            "gridcolor": "white",
            "linecolor": "white",
            "ticks": ""
           },
           "bgcolor": "#E5ECF6",
           "caxis": {
            "gridcolor": "white",
            "linecolor": "white",
            "ticks": ""
           }
          },
          "title": {
           "x": 0.05
          },
          "xaxis": {
           "automargin": true,
           "gridcolor": "white",
           "linecolor": "white",
           "ticks": "",
           "title": {
            "standoff": 15
           },
           "zerolinecolor": "white",
           "zerolinewidth": 2
          },
          "yaxis": {
           "automargin": true,
           "gridcolor": "white",
           "linecolor": "white",
           "ticks": "",
           "title": {
            "standoff": 15
           },
           "zerolinecolor": "white",
           "zerolinewidth": 2
          }
         }
        },
        "title": {
         "text": "WINDOWS VERSION In our LABS"
        },
        "xaxis": {
         "anchor": "y",
         "domain": [
          0,
          1
         ],
         "title": {
          "text": "WINDOWS"
         }
        },
        "yaxis": {
         "anchor": "x",
         "domain": [
          0,
          1
         ],
         "title": {
          "text": "count"
         }
        }
       }
      },
      "text/html": [
       "<div>                            <div id=\"cf42ec04-bac3-421e-9ed0-f4d179dbc888\" class=\"plotly-graph-div\" style=\"height:525px; width:100%;\"></div>            <script type=\"text/javascript\">                require([\"plotly\"], function(Plotly) {                    window.PLOTLYENV=window.PLOTLYENV || {};                                    if (document.getElementById(\"cf42ec04-bac3-421e-9ed0-f4d179dbc888\")) {                    Plotly.newPlot(                        \"cf42ec04-bac3-421e-9ed0-f4d179dbc888\",                        [{\"alignmentgroup\": \"True\", \"hovertemplate\": \"<b>%{hovertext}</b><br><br>WINDOWS=%{x}<br>count=%{y}<extra></extra>\", \"hovertext\": [\"WIN 8\", \"WIN 7\", \"WIN 7\", \"WIN 7\", \"WIN 7\", \"UBUNTU\", \"WIN 10\", \"WIN 7\", \"WIN 7\", \"WIN 7\", \"WIN 7\", \"XP\", \"XP\", \"WIN 8\", \"WIN 7\", \"WIN 8\", \"WIN 7\", \"WIN 7\", \"WIN 8\", \"WIN 7\", \"WIN 8\", \"XP\", \"XP\", \"XP\", \"WIN 7\", \"XP\", \"WIN 7\", \"WIN 10\", \"WIN 7\", \"WIN 7\", \"WIN 7\", \"WIN 7\", \"WIN 7\", \"WIN 7\", \"WIN 10\", \"WIN 10\", \"WIN 10\", \"WIN 7\", \"WIN 10\", \"WIN 8\", \"WIN 7\", \"WIN 10\", \"WIN 7\", \"WIN 7\", \"WIN 10\", \"WIN 8\", \"WIN 7\", \"WIN 7\", \"WIN 7\", \"WIN 7\", \"WIN 7\", \"WIN 7\", \"WIN 7\", \"WIN 7\", \"WIN 7\", \"WIN 7\", \"WIN 7\"], \"legendgroup\": \"\", \"marker\": {\"color\": \"#636efa\"}, \"name\": \"\", \"offsetgroup\": \"\", \"orientation\": \"v\", \"showlegend\": false, \"textposition\": \"auto\", \"type\": \"bar\", \"x\": [\"WIN 8\", \"WIN 7\", \"WIN 7\", \"WIN 7\", \"WIN 7\", \"UBUNTU\", \"WIN 10\", \"WIN 7\", \"WIN 7\", \"WIN 7\", \"WIN 7\", \"XP\", \"XP\", \"WIN 8\", \"WIN 7\", \"WIN 8\", \"WIN 7\", \"WIN 7\", \"WIN 8\", \"WIN 7\", \"WIN 8\", \"XP\", \"XP\", \"XP\", \"WIN 7\", \"XP\", \"WIN 7\", \"WIN 10\", \"WIN 7\", \"WIN 7\", \"WIN 7\", \"WIN 7\", \"WIN 7\", \"WIN 7\", \"WIN 10\", \"WIN 10\", \"WIN 10\", \"WIN 7\", \"WIN 10\", \"WIN 8\", \"WIN 7\", \"WIN 10\", \"WIN 7\", \"WIN 7\", \"WIN 10\", \"WIN 8\", \"WIN 7\", \"WIN 7\", \"WIN 7\", \"WIN 7\", \"WIN 7\", \"WIN 7\", \"WIN 7\", \"WIN 7\", \"WIN 7\", \"WIN 7\", \"WIN 7\"], \"xaxis\": \"x\", \"y\": [1, 1, 1, 1, 1, 1, 1, 1, 1, 1, 1, 1, 1, 1, 1, 1, 1, 1, 1, 1, 1, 1, 1, 1, 1, 1, 1, 1, 1, 1, 1, 1, 1, 1, 1, 1, 1, 1, 1, 1, 1, 1, 1, 1, 1, 1, 1, 1, 1, 1, 1, 1, 1, 1, 1, 1, 1], \"yaxis\": \"y\"}],                        {\"barmode\": \"relative\", \"legend\": {\"tracegroupgap\": 0}, \"template\": {\"data\": {\"bar\": [{\"error_x\": {\"color\": \"#2a3f5f\"}, \"error_y\": {\"color\": \"#2a3f5f\"}, \"marker\": {\"line\": {\"color\": \"#E5ECF6\", \"width\": 0.5}}, \"type\": \"bar\"}], \"barpolar\": [{\"marker\": {\"line\": {\"color\": \"#E5ECF6\", \"width\": 0.5}}, \"type\": \"barpolar\"}], \"carpet\": [{\"aaxis\": {\"endlinecolor\": \"#2a3f5f\", \"gridcolor\": \"white\", \"linecolor\": \"white\", \"minorgridcolor\": \"white\", \"startlinecolor\": \"#2a3f5f\"}, \"baxis\": {\"endlinecolor\": \"#2a3f5f\", \"gridcolor\": \"white\", \"linecolor\": \"white\", \"minorgridcolor\": \"white\", \"startlinecolor\": \"#2a3f5f\"}, \"type\": \"carpet\"}], \"choropleth\": [{\"colorbar\": {\"outlinewidth\": 0, \"ticks\": \"\"}, \"type\": \"choropleth\"}], \"contour\": [{\"colorbar\": {\"outlinewidth\": 0, \"ticks\": \"\"}, \"colorscale\": [[0.0, \"#0d0887\"], [0.1111111111111111, \"#46039f\"], [0.2222222222222222, \"#7201a8\"], [0.3333333333333333, \"#9c179e\"], [0.4444444444444444, \"#bd3786\"], [0.5555555555555556, \"#d8576b\"], [0.6666666666666666, \"#ed7953\"], [0.7777777777777778, \"#fb9f3a\"], [0.8888888888888888, \"#fdca26\"], [1.0, \"#f0f921\"]], \"type\": \"contour\"}], \"contourcarpet\": [{\"colorbar\": {\"outlinewidth\": 0, \"ticks\": \"\"}, \"type\": \"contourcarpet\"}], \"heatmap\": [{\"colorbar\": {\"outlinewidth\": 0, \"ticks\": \"\"}, \"colorscale\": [[0.0, \"#0d0887\"], [0.1111111111111111, \"#46039f\"], [0.2222222222222222, \"#7201a8\"], [0.3333333333333333, \"#9c179e\"], [0.4444444444444444, \"#bd3786\"], [0.5555555555555556, \"#d8576b\"], [0.6666666666666666, \"#ed7953\"], [0.7777777777777778, \"#fb9f3a\"], [0.8888888888888888, \"#fdca26\"], [1.0, \"#f0f921\"]], \"type\": \"heatmap\"}], \"heatmapgl\": [{\"colorbar\": {\"outlinewidth\": 0, \"ticks\": \"\"}, \"colorscale\": [[0.0, \"#0d0887\"], [0.1111111111111111, \"#46039f\"], [0.2222222222222222, \"#7201a8\"], [0.3333333333333333, \"#9c179e\"], [0.4444444444444444, \"#bd3786\"], [0.5555555555555556, \"#d8576b\"], [0.6666666666666666, \"#ed7953\"], [0.7777777777777778, \"#fb9f3a\"], [0.8888888888888888, \"#fdca26\"], [1.0, \"#f0f921\"]], \"type\": \"heatmapgl\"}], \"histogram\": [{\"marker\": {\"colorbar\": {\"outlinewidth\": 0, \"ticks\": \"\"}}, \"type\": \"histogram\"}], \"histogram2d\": [{\"colorbar\": {\"outlinewidth\": 0, \"ticks\": \"\"}, \"colorscale\": [[0.0, \"#0d0887\"], [0.1111111111111111, \"#46039f\"], [0.2222222222222222, \"#7201a8\"], [0.3333333333333333, \"#9c179e\"], [0.4444444444444444, \"#bd3786\"], [0.5555555555555556, \"#d8576b\"], [0.6666666666666666, \"#ed7953\"], [0.7777777777777778, \"#fb9f3a\"], [0.8888888888888888, \"#fdca26\"], [1.0, \"#f0f921\"]], \"type\": \"histogram2d\"}], \"histogram2dcontour\": [{\"colorbar\": {\"outlinewidth\": 0, \"ticks\": \"\"}, \"colorscale\": [[0.0, \"#0d0887\"], [0.1111111111111111, \"#46039f\"], [0.2222222222222222, \"#7201a8\"], [0.3333333333333333, \"#9c179e\"], [0.4444444444444444, \"#bd3786\"], [0.5555555555555556, \"#d8576b\"], [0.6666666666666666, \"#ed7953\"], [0.7777777777777778, \"#fb9f3a\"], [0.8888888888888888, \"#fdca26\"], [1.0, \"#f0f921\"]], \"type\": \"histogram2dcontour\"}], \"mesh3d\": [{\"colorbar\": {\"outlinewidth\": 0, \"ticks\": \"\"}, \"type\": \"mesh3d\"}], \"parcoords\": [{\"line\": {\"colorbar\": {\"outlinewidth\": 0, \"ticks\": \"\"}}, \"type\": \"parcoords\"}], \"pie\": [{\"automargin\": true, \"type\": \"pie\"}], \"scatter\": [{\"marker\": {\"colorbar\": {\"outlinewidth\": 0, \"ticks\": \"\"}}, \"type\": \"scatter\"}], \"scatter3d\": [{\"line\": {\"colorbar\": {\"outlinewidth\": 0, \"ticks\": \"\"}}, \"marker\": {\"colorbar\": {\"outlinewidth\": 0, \"ticks\": \"\"}}, \"type\": \"scatter3d\"}], \"scattercarpet\": [{\"marker\": {\"colorbar\": {\"outlinewidth\": 0, \"ticks\": \"\"}}, \"type\": \"scattercarpet\"}], \"scattergeo\": [{\"marker\": {\"colorbar\": {\"outlinewidth\": 0, \"ticks\": \"\"}}, \"type\": \"scattergeo\"}], \"scattergl\": [{\"marker\": {\"colorbar\": {\"outlinewidth\": 0, \"ticks\": \"\"}}, \"type\": \"scattergl\"}], \"scattermapbox\": [{\"marker\": {\"colorbar\": {\"outlinewidth\": 0, \"ticks\": \"\"}}, \"type\": \"scattermapbox\"}], \"scatterpolar\": [{\"marker\": {\"colorbar\": {\"outlinewidth\": 0, \"ticks\": \"\"}}, \"type\": \"scatterpolar\"}], \"scatterpolargl\": [{\"marker\": {\"colorbar\": {\"outlinewidth\": 0, \"ticks\": \"\"}}, \"type\": \"scatterpolargl\"}], \"scatterternary\": [{\"marker\": {\"colorbar\": {\"outlinewidth\": 0, \"ticks\": \"\"}}, \"type\": \"scatterternary\"}], \"surface\": [{\"colorbar\": {\"outlinewidth\": 0, \"ticks\": \"\"}, \"colorscale\": [[0.0, \"#0d0887\"], [0.1111111111111111, \"#46039f\"], [0.2222222222222222, \"#7201a8\"], [0.3333333333333333, \"#9c179e\"], [0.4444444444444444, \"#bd3786\"], [0.5555555555555556, \"#d8576b\"], [0.6666666666666666, \"#ed7953\"], [0.7777777777777778, \"#fb9f3a\"], [0.8888888888888888, \"#fdca26\"], [1.0, \"#f0f921\"]], \"type\": \"surface\"}], \"table\": [{\"cells\": {\"fill\": {\"color\": \"#EBF0F8\"}, \"line\": {\"color\": \"white\"}}, \"header\": {\"fill\": {\"color\": \"#C8D4E3\"}, \"line\": {\"color\": \"white\"}}, \"type\": \"table\"}]}, \"layout\": {\"annotationdefaults\": {\"arrowcolor\": \"#2a3f5f\", \"arrowhead\": 0, \"arrowwidth\": 1}, \"autotypenumbers\": \"strict\", \"coloraxis\": {\"colorbar\": {\"outlinewidth\": 0, \"ticks\": \"\"}}, \"colorscale\": {\"diverging\": [[0, \"#8e0152\"], [0.1, \"#c51b7d\"], [0.2, \"#de77ae\"], [0.3, \"#f1b6da\"], [0.4, \"#fde0ef\"], [0.5, \"#f7f7f7\"], [0.6, \"#e6f5d0\"], [0.7, \"#b8e186\"], [0.8, \"#7fbc41\"], [0.9, \"#4d9221\"], [1, \"#276419\"]], \"sequential\": [[0.0, \"#0d0887\"], [0.1111111111111111, \"#46039f\"], [0.2222222222222222, \"#7201a8\"], [0.3333333333333333, \"#9c179e\"], [0.4444444444444444, \"#bd3786\"], [0.5555555555555556, \"#d8576b\"], [0.6666666666666666, \"#ed7953\"], [0.7777777777777778, \"#fb9f3a\"], [0.8888888888888888, \"#fdca26\"], [1.0, \"#f0f921\"]], \"sequentialminus\": [[0.0, \"#0d0887\"], [0.1111111111111111, \"#46039f\"], [0.2222222222222222, \"#7201a8\"], [0.3333333333333333, \"#9c179e\"], [0.4444444444444444, \"#bd3786\"], [0.5555555555555556, \"#d8576b\"], [0.6666666666666666, \"#ed7953\"], [0.7777777777777778, \"#fb9f3a\"], [0.8888888888888888, \"#fdca26\"], [1.0, \"#f0f921\"]]}, \"colorway\": [\"#636efa\", \"#EF553B\", \"#00cc96\", \"#ab63fa\", \"#FFA15A\", \"#19d3f3\", \"#FF6692\", \"#B6E880\", \"#FF97FF\", \"#FECB52\"], \"font\": {\"color\": \"#2a3f5f\"}, \"geo\": {\"bgcolor\": \"white\", \"lakecolor\": \"white\", \"landcolor\": \"#E5ECF6\", \"showlakes\": true, \"showland\": true, \"subunitcolor\": \"white\"}, \"hoverlabel\": {\"align\": \"left\"}, \"hovermode\": \"closest\", \"mapbox\": {\"style\": \"light\"}, \"paper_bgcolor\": \"white\", \"plot_bgcolor\": \"#E5ECF6\", \"polar\": {\"angularaxis\": {\"gridcolor\": \"white\", \"linecolor\": \"white\", \"ticks\": \"\"}, \"bgcolor\": \"#E5ECF6\", \"radialaxis\": {\"gridcolor\": \"white\", \"linecolor\": \"white\", \"ticks\": \"\"}}, \"scene\": {\"xaxis\": {\"backgroundcolor\": \"#E5ECF6\", \"gridcolor\": \"white\", \"gridwidth\": 2, \"linecolor\": \"white\", \"showbackground\": true, \"ticks\": \"\", \"zerolinecolor\": \"white\"}, \"yaxis\": {\"backgroundcolor\": \"#E5ECF6\", \"gridcolor\": \"white\", \"gridwidth\": 2, \"linecolor\": \"white\", \"showbackground\": true, \"ticks\": \"\", \"zerolinecolor\": \"white\"}, \"zaxis\": {\"backgroundcolor\": \"#E5ECF6\", \"gridcolor\": \"white\", \"gridwidth\": 2, \"linecolor\": \"white\", \"showbackground\": true, \"ticks\": \"\", \"zerolinecolor\": \"white\"}}, \"shapedefaults\": {\"line\": {\"color\": \"#2a3f5f\"}}, \"ternary\": {\"aaxis\": {\"gridcolor\": \"white\", \"linecolor\": \"white\", \"ticks\": \"\"}, \"baxis\": {\"gridcolor\": \"white\", \"linecolor\": \"white\", \"ticks\": \"\"}, \"bgcolor\": \"#E5ECF6\", \"caxis\": {\"gridcolor\": \"white\", \"linecolor\": \"white\", \"ticks\": \"\"}}, \"title\": {\"x\": 0.05}, \"xaxis\": {\"automargin\": true, \"gridcolor\": \"white\", \"linecolor\": \"white\", \"ticks\": \"\", \"title\": {\"standoff\": 15}, \"zerolinecolor\": \"white\", \"zerolinewidth\": 2}, \"yaxis\": {\"automargin\": true, \"gridcolor\": \"white\", \"linecolor\": \"white\", \"ticks\": \"\", \"title\": {\"standoff\": 15}, \"zerolinecolor\": \"white\", \"zerolinewidth\": 2}}}, \"title\": {\"text\": \"WINDOWS VERSION In our LABS\"}, \"xaxis\": {\"anchor\": \"y\", \"domain\": [0.0, 1.0], \"title\": {\"text\": \"WINDOWS\"}}, \"yaxis\": {\"anchor\": \"x\", \"domain\": [0.0, 1.0], \"title\": {\"text\": \"count\"}}},                        {\"responsive\": true}                    ).then(function(){\n",
       "                            \n",
       "var gd = document.getElementById('cf42ec04-bac3-421e-9ed0-f4d179dbc888');\n",
       "var x = new MutationObserver(function (mutations, observer) {{\n",
       "        var display = window.getComputedStyle(gd).display;\n",
       "        if (!display || display === 'none') {{\n",
       "            console.log([gd, 'removed!']);\n",
       "            Plotly.purge(gd);\n",
       "            observer.disconnect();\n",
       "        }}\n",
       "}});\n",
       "\n",
       "// Listen for the removal of the full notebook cells\n",
       "var notebookContainer = gd.closest('#notebook-container');\n",
       "if (notebookContainer) {{\n",
       "    x.observe(notebookContainer, {childList: true});\n",
       "}}\n",
       "\n",
       "// Listen for the clearing of the current output cell\n",
       "var outputEl = gd.closest('.output');\n",
       "if (outputEl) {{\n",
       "    x.observe(outputEl, {childList: true});\n",
       "}}\n",
       "\n",
       "                        })                };                });            </script>        </div>"
      ]
     },
     "metadata": {},
     "output_type": "display_data"
    }
   ],
   "source": [
    "fig = px.bar(df, x='WINDOWS', hover_name='WINDOWS', title='WINDOWS VERSION In our LABS')\n",
    "fig.show()"
   ]
  },
  {
   "cell_type": "code",
   "execution_count": 38,
   "id": "88861eb6",
   "metadata": {},
   "outputs": [
    {
     "data": {
      "application/vnd.plotly.v1+json": {
       "config": {
        "plotlyServerURL": "https://plot.ly"
       },
       "data": [
        {
         "alignmentgroup": "True",
         "hovertemplate": "<b>%{hovertext}</b><br><br>C/C++=%{x}<br>LAB=%{y}<extra></extra>",
         "hovertext": [
          "WIN 8",
          "WIN 7",
          "WIN 7",
          "WIN 7",
          "WIN 7",
          "UBUNTU",
          "WIN 10",
          "WIN 7",
          "WIN 7",
          "WIN 7",
          "WIN 7",
          "XP",
          "XP",
          "WIN 8",
          "WIN 7",
          "WIN 8",
          "WIN 7",
          "WIN 7",
          "WIN 8",
          "WIN 7",
          "WIN 8",
          "XP",
          "XP",
          "XP",
          "WIN 7",
          "XP",
          "WIN 7",
          "WIN 10",
          "WIN 7",
          "WIN 7",
          "WIN 7",
          "WIN 7",
          "WIN 7",
          "WIN 7",
          "WIN 10",
          "WIN 10",
          "WIN 10",
          "WIN 7",
          "WIN 10",
          "WIN 8",
          "WIN 7",
          "WIN 10",
          "WIN 7",
          "WIN 7",
          "WIN 10",
          "WIN 8",
          "WIN 7",
          "WIN 7",
          "WIN 7",
          "WIN 7",
          "WIN 7",
          "WIN 7",
          "WIN 7",
          "WIN 7",
          "WIN 7",
          "WIN 7",
          "WIN 7"
         ],
         "legendgroup": "",
         "marker": {
          "color": "#636efa"
         },
         "name": "",
         "offsetgroup": "",
         "orientation": "v",
         "showlegend": false,
         "textposition": "auto",
         "type": "bar",
         "x": [
          "YES",
          "NO",
          "YES",
          "YES",
          "YES",
          "NO",
          "YES",
          "YES",
          "NO",
          "YES",
          "YES",
          "YES",
          "YES",
          "YES",
          "YES",
          "YES",
          "YES",
          "YES",
          "YES",
          "YES",
          "YES",
          "YES",
          "YES",
          "YES",
          "YES",
          "YES",
          "YES",
          "YES",
          "YES",
          "YES",
          "NO",
          "YES",
          "YES",
          "YES",
          "YES",
          "YES",
          "YES",
          "YES",
          "YES",
          "NO",
          "YES",
          "YES",
          "NO",
          "YES",
          "YES",
          "YES",
          "YES",
          "YES",
          "YES",
          "YES",
          "YES",
          "YES",
          "YES",
          "YES",
          "YES",
          "YES",
          "YES"
         ],
         "xaxis": "x",
         "y": [
          "LAB1",
          "LAB1",
          "LAB1",
          "LAB1",
          "LAB1",
          "LAB1",
          "LAB 2",
          "LAB1",
          "LAB1",
          "LAB1",
          "LAB1",
          "LAB1",
          "LAB1",
          "LAB1",
          "LAB1",
          "LAB1",
          "LAB1",
          "LAB1",
          "LAB1",
          "LAB1",
          "LAB1",
          "LAB1",
          "LAB1",
          "LAB1",
          "LAB1",
          "LAB1",
          "LAB1",
          "LAB 2",
          "LAB 2",
          "LAB 2",
          "LAB 2",
          "LAB 2",
          "LAB 2",
          "LAB 2",
          "LAB 2",
          "LAB 2",
          "LAB 2",
          "LAB 2",
          "LAB 2",
          "LAB 2",
          "LAB 2",
          "LAB 2",
          "LAB 2",
          "LAB 2",
          "LAB 2",
          "LAB 2",
          "LAB 2",
          "LAB 2",
          "LAB 2",
          "LAB 2",
          "LAB 2",
          "LAB 2",
          "LAB 2",
          "LAB 2",
          "LAB 2",
          "LAB 2",
          "LAB 2"
         ],
         "yaxis": "y"
        }
       ],
       "layout": {
        "barmode": "relative",
        "legend": {
         "tracegroupgap": 0
        },
        "template": {
         "data": {
          "bar": [
           {
            "error_x": {
             "color": "#2a3f5f"
            },
            "error_y": {
             "color": "#2a3f5f"
            },
            "marker": {
             "line": {
              "color": "#E5ECF6",
              "width": 0.5
             }
            },
            "type": "bar"
           }
          ],
          "barpolar": [
           {
            "marker": {
             "line": {
              "color": "#E5ECF6",
              "width": 0.5
             }
            },
            "type": "barpolar"
           }
          ],
          "carpet": [
           {
            "aaxis": {
             "endlinecolor": "#2a3f5f",
             "gridcolor": "white",
             "linecolor": "white",
             "minorgridcolor": "white",
             "startlinecolor": "#2a3f5f"
            },
            "baxis": {
             "endlinecolor": "#2a3f5f",
             "gridcolor": "white",
             "linecolor": "white",
             "minorgridcolor": "white",
             "startlinecolor": "#2a3f5f"
            },
            "type": "carpet"
           }
          ],
          "choropleth": [
           {
            "colorbar": {
             "outlinewidth": 0,
             "ticks": ""
            },
            "type": "choropleth"
           }
          ],
          "contour": [
           {
            "colorbar": {
             "outlinewidth": 0,
             "ticks": ""
            },
            "colorscale": [
             [
              0,
              "#0d0887"
             ],
             [
              0.1111111111111111,
              "#46039f"
             ],
             [
              0.2222222222222222,
              "#7201a8"
             ],
             [
              0.3333333333333333,
              "#9c179e"
             ],
             [
              0.4444444444444444,
              "#bd3786"
             ],
             [
              0.5555555555555556,
              "#d8576b"
             ],
             [
              0.6666666666666666,
              "#ed7953"
             ],
             [
              0.7777777777777778,
              "#fb9f3a"
             ],
             [
              0.8888888888888888,
              "#fdca26"
             ],
             [
              1,
              "#f0f921"
             ]
            ],
            "type": "contour"
           }
          ],
          "contourcarpet": [
           {
            "colorbar": {
             "outlinewidth": 0,
             "ticks": ""
            },
            "type": "contourcarpet"
           }
          ],
          "heatmap": [
           {
            "colorbar": {
             "outlinewidth": 0,
             "ticks": ""
            },
            "colorscale": [
             [
              0,
              "#0d0887"
             ],
             [
              0.1111111111111111,
              "#46039f"
             ],
             [
              0.2222222222222222,
              "#7201a8"
             ],
             [
              0.3333333333333333,
              "#9c179e"
             ],
             [
              0.4444444444444444,
              "#bd3786"
             ],
             [
              0.5555555555555556,
              "#d8576b"
             ],
             [
              0.6666666666666666,
              "#ed7953"
             ],
             [
              0.7777777777777778,
              "#fb9f3a"
             ],
             [
              0.8888888888888888,
              "#fdca26"
             ],
             [
              1,
              "#f0f921"
             ]
            ],
            "type": "heatmap"
           }
          ],
          "heatmapgl": [
           {
            "colorbar": {
             "outlinewidth": 0,
             "ticks": ""
            },
            "colorscale": [
             [
              0,
              "#0d0887"
             ],
             [
              0.1111111111111111,
              "#46039f"
             ],
             [
              0.2222222222222222,
              "#7201a8"
             ],
             [
              0.3333333333333333,
              "#9c179e"
             ],
             [
              0.4444444444444444,
              "#bd3786"
             ],
             [
              0.5555555555555556,
              "#d8576b"
             ],
             [
              0.6666666666666666,
              "#ed7953"
             ],
             [
              0.7777777777777778,
              "#fb9f3a"
             ],
             [
              0.8888888888888888,
              "#fdca26"
             ],
             [
              1,
              "#f0f921"
             ]
            ],
            "type": "heatmapgl"
           }
          ],
          "histogram": [
           {
            "marker": {
             "colorbar": {
              "outlinewidth": 0,
              "ticks": ""
             }
            },
            "type": "histogram"
           }
          ],
          "histogram2d": [
           {
            "colorbar": {
             "outlinewidth": 0,
             "ticks": ""
            },
            "colorscale": [
             [
              0,
              "#0d0887"
             ],
             [
              0.1111111111111111,
              "#46039f"
             ],
             [
              0.2222222222222222,
              "#7201a8"
             ],
             [
              0.3333333333333333,
              "#9c179e"
             ],
             [
              0.4444444444444444,
              "#bd3786"
             ],
             [
              0.5555555555555556,
              "#d8576b"
             ],
             [
              0.6666666666666666,
              "#ed7953"
             ],
             [
              0.7777777777777778,
              "#fb9f3a"
             ],
             [
              0.8888888888888888,
              "#fdca26"
             ],
             [
              1,
              "#f0f921"
             ]
            ],
            "type": "histogram2d"
           }
          ],
          "histogram2dcontour": [
           {
            "colorbar": {
             "outlinewidth": 0,
             "ticks": ""
            },
            "colorscale": [
             [
              0,
              "#0d0887"
             ],
             [
              0.1111111111111111,
              "#46039f"
             ],
             [
              0.2222222222222222,
              "#7201a8"
             ],
             [
              0.3333333333333333,
              "#9c179e"
             ],
             [
              0.4444444444444444,
              "#bd3786"
             ],
             [
              0.5555555555555556,
              "#d8576b"
             ],
             [
              0.6666666666666666,
              "#ed7953"
             ],
             [
              0.7777777777777778,
              "#fb9f3a"
             ],
             [
              0.8888888888888888,
              "#fdca26"
             ],
             [
              1,
              "#f0f921"
             ]
            ],
            "type": "histogram2dcontour"
           }
          ],
          "mesh3d": [
           {
            "colorbar": {
             "outlinewidth": 0,
             "ticks": ""
            },
            "type": "mesh3d"
           }
          ],
          "parcoords": [
           {
            "line": {
             "colorbar": {
              "outlinewidth": 0,
              "ticks": ""
             }
            },
            "type": "parcoords"
           }
          ],
          "pie": [
           {
            "automargin": true,
            "type": "pie"
           }
          ],
          "scatter": [
           {
            "marker": {
             "colorbar": {
              "outlinewidth": 0,
              "ticks": ""
             }
            },
            "type": "scatter"
           }
          ],
          "scatter3d": [
           {
            "line": {
             "colorbar": {
              "outlinewidth": 0,
              "ticks": ""
             }
            },
            "marker": {
             "colorbar": {
              "outlinewidth": 0,
              "ticks": ""
             }
            },
            "type": "scatter3d"
           }
          ],
          "scattercarpet": [
           {
            "marker": {
             "colorbar": {
              "outlinewidth": 0,
              "ticks": ""
             }
            },
            "type": "scattercarpet"
           }
          ],
          "scattergeo": [
           {
            "marker": {
             "colorbar": {
              "outlinewidth": 0,
              "ticks": ""
             }
            },
            "type": "scattergeo"
           }
          ],
          "scattergl": [
           {
            "marker": {
             "colorbar": {
              "outlinewidth": 0,
              "ticks": ""
             }
            },
            "type": "scattergl"
           }
          ],
          "scattermapbox": [
           {
            "marker": {
             "colorbar": {
              "outlinewidth": 0,
              "ticks": ""
             }
            },
            "type": "scattermapbox"
           }
          ],
          "scatterpolar": [
           {
            "marker": {
             "colorbar": {
              "outlinewidth": 0,
              "ticks": ""
             }
            },
            "type": "scatterpolar"
           }
          ],
          "scatterpolargl": [
           {
            "marker": {
             "colorbar": {
              "outlinewidth": 0,
              "ticks": ""
             }
            },
            "type": "scatterpolargl"
           }
          ],
          "scatterternary": [
           {
            "marker": {
             "colorbar": {
              "outlinewidth": 0,
              "ticks": ""
             }
            },
            "type": "scatterternary"
           }
          ],
          "surface": [
           {
            "colorbar": {
             "outlinewidth": 0,
             "ticks": ""
            },
            "colorscale": [
             [
              0,
              "#0d0887"
             ],
             [
              0.1111111111111111,
              "#46039f"
             ],
             [
              0.2222222222222222,
              "#7201a8"
             ],
             [
              0.3333333333333333,
              "#9c179e"
             ],
             [
              0.4444444444444444,
              "#bd3786"
             ],
             [
              0.5555555555555556,
              "#d8576b"
             ],
             [
              0.6666666666666666,
              "#ed7953"
             ],
             [
              0.7777777777777778,
              "#fb9f3a"
             ],
             [
              0.8888888888888888,
              "#fdca26"
             ],
             [
              1,
              "#f0f921"
             ]
            ],
            "type": "surface"
           }
          ],
          "table": [
           {
            "cells": {
             "fill": {
              "color": "#EBF0F8"
             },
             "line": {
              "color": "white"
             }
            },
            "header": {
             "fill": {
              "color": "#C8D4E3"
             },
             "line": {
              "color": "white"
             }
            },
            "type": "table"
           }
          ]
         },
         "layout": {
          "annotationdefaults": {
           "arrowcolor": "#2a3f5f",
           "arrowhead": 0,
           "arrowwidth": 1
          },
          "autotypenumbers": "strict",
          "coloraxis": {
           "colorbar": {
            "outlinewidth": 0,
            "ticks": ""
           }
          },
          "colorscale": {
           "diverging": [
            [
             0,
             "#8e0152"
            ],
            [
             0.1,
             "#c51b7d"
            ],
            [
             0.2,
             "#de77ae"
            ],
            [
             0.3,
             "#f1b6da"
            ],
            [
             0.4,
             "#fde0ef"
            ],
            [
             0.5,
             "#f7f7f7"
            ],
            [
             0.6,
             "#e6f5d0"
            ],
            [
             0.7,
             "#b8e186"
            ],
            [
             0.8,
             "#7fbc41"
            ],
            [
             0.9,
             "#4d9221"
            ],
            [
             1,
             "#276419"
            ]
           ],
           "sequential": [
            [
             0,
             "#0d0887"
            ],
            [
             0.1111111111111111,
             "#46039f"
            ],
            [
             0.2222222222222222,
             "#7201a8"
            ],
            [
             0.3333333333333333,
             "#9c179e"
            ],
            [
             0.4444444444444444,
             "#bd3786"
            ],
            [
             0.5555555555555556,
             "#d8576b"
            ],
            [
             0.6666666666666666,
             "#ed7953"
            ],
            [
             0.7777777777777778,
             "#fb9f3a"
            ],
            [
             0.8888888888888888,
             "#fdca26"
            ],
            [
             1,
             "#f0f921"
            ]
           ],
           "sequentialminus": [
            [
             0,
             "#0d0887"
            ],
            [
             0.1111111111111111,
             "#46039f"
            ],
            [
             0.2222222222222222,
             "#7201a8"
            ],
            [
             0.3333333333333333,
             "#9c179e"
            ],
            [
             0.4444444444444444,
             "#bd3786"
            ],
            [
             0.5555555555555556,
             "#d8576b"
            ],
            [
             0.6666666666666666,
             "#ed7953"
            ],
            [
             0.7777777777777778,
             "#fb9f3a"
            ],
            [
             0.8888888888888888,
             "#fdca26"
            ],
            [
             1,
             "#f0f921"
            ]
           ]
          },
          "colorway": [
           "#636efa",
           "#EF553B",
           "#00cc96",
           "#ab63fa",
           "#FFA15A",
           "#19d3f3",
           "#FF6692",
           "#B6E880",
           "#FF97FF",
           "#FECB52"
          ],
          "font": {
           "color": "#2a3f5f"
          },
          "geo": {
           "bgcolor": "white",
           "lakecolor": "white",
           "landcolor": "#E5ECF6",
           "showlakes": true,
           "showland": true,
           "subunitcolor": "white"
          },
          "hoverlabel": {
           "align": "left"
          },
          "hovermode": "closest",
          "mapbox": {
           "style": "light"
          },
          "paper_bgcolor": "white",
          "plot_bgcolor": "#E5ECF6",
          "polar": {
           "angularaxis": {
            "gridcolor": "white",
            "linecolor": "white",
            "ticks": ""
           },
           "bgcolor": "#E5ECF6",
           "radialaxis": {
            "gridcolor": "white",
            "linecolor": "white",
            "ticks": ""
           }
          },
          "scene": {
           "xaxis": {
            "backgroundcolor": "#E5ECF6",
            "gridcolor": "white",
            "gridwidth": 2,
            "linecolor": "white",
            "showbackground": true,
            "ticks": "",
            "zerolinecolor": "white"
           },
           "yaxis": {
            "backgroundcolor": "#E5ECF6",
            "gridcolor": "white",
            "gridwidth": 2,
            "linecolor": "white",
            "showbackground": true,
            "ticks": "",
            "zerolinecolor": "white"
           },
           "zaxis": {
            "backgroundcolor": "#E5ECF6",
            "gridcolor": "white",
            "gridwidth": 2,
            "linecolor": "white",
            "showbackground": true,
            "ticks": "",
            "zerolinecolor": "white"
           }
          },
          "shapedefaults": {
           "line": {
            "color": "#2a3f5f"
           }
          },
          "ternary": {
           "aaxis": {
            "gridcolor": "white",
            "linecolor": "white",
            "ticks": ""
           },
           "baxis": {
            "gridcolor": "white",
            "linecolor": "white",
            "ticks": ""
           },
           "bgcolor": "#E5ECF6",
           "caxis": {
            "gridcolor": "white",
            "linecolor": "white",
            "ticks": ""
           }
          },
          "title": {
           "x": 0.05
          },
          "xaxis": {
           "automargin": true,
           "gridcolor": "white",
           "linecolor": "white",
           "ticks": "",
           "title": {
            "standoff": 15
           },
           "zerolinecolor": "white",
           "zerolinewidth": 2
          },
          "yaxis": {
           "automargin": true,
           "gridcolor": "white",
           "linecolor": "white",
           "ticks": "",
           "title": {
            "standoff": 15
           },
           "zerolinecolor": "white",
           "zerolinewidth": 2
          }
         }
        },
        "title": {
         "text": "C/C++ In our LABS << MOST OF THEM ARE COURRUPTED>>"
        },
        "xaxis": {
         "anchor": "y",
         "domain": [
          0,
          1
         ],
         "title": {
          "text": "C/C++"
         }
        },
        "yaxis": {
         "anchor": "x",
         "domain": [
          0,
          1
         ],
         "title": {
          "text": "LAB"
         }
        }
       }
      },
      "text/html": [
       "<div>                            <div id=\"41e35ea4-9e60-4c4b-98e2-a634bd6af444\" class=\"plotly-graph-div\" style=\"height:525px; width:100%;\"></div>            <script type=\"text/javascript\">                require([\"plotly\"], function(Plotly) {                    window.PLOTLYENV=window.PLOTLYENV || {};                                    if (document.getElementById(\"41e35ea4-9e60-4c4b-98e2-a634bd6af444\")) {                    Plotly.newPlot(                        \"41e35ea4-9e60-4c4b-98e2-a634bd6af444\",                        [{\"alignmentgroup\": \"True\", \"hovertemplate\": \"<b>%{hovertext}</b><br><br>C/C++=%{x}<br>LAB=%{y}<extra></extra>\", \"hovertext\": [\"WIN 8\", \"WIN 7\", \"WIN 7\", \"WIN 7\", \"WIN 7\", \"UBUNTU\", \"WIN 10\", \"WIN 7\", \"WIN 7\", \"WIN 7\", \"WIN 7\", \"XP\", \"XP\", \"WIN 8\", \"WIN 7\", \"WIN 8\", \"WIN 7\", \"WIN 7\", \"WIN 8\", \"WIN 7\", \"WIN 8\", \"XP\", \"XP\", \"XP\", \"WIN 7\", \"XP\", \"WIN 7\", \"WIN 10\", \"WIN 7\", \"WIN 7\", \"WIN 7\", \"WIN 7\", \"WIN 7\", \"WIN 7\", \"WIN 10\", \"WIN 10\", \"WIN 10\", \"WIN 7\", \"WIN 10\", \"WIN 8\", \"WIN 7\", \"WIN 10\", \"WIN 7\", \"WIN 7\", \"WIN 10\", \"WIN 8\", \"WIN 7\", \"WIN 7\", \"WIN 7\", \"WIN 7\", \"WIN 7\", \"WIN 7\", \"WIN 7\", \"WIN 7\", \"WIN 7\", \"WIN 7\", \"WIN 7\"], \"legendgroup\": \"\", \"marker\": {\"color\": \"#636efa\"}, \"name\": \"\", \"offsetgroup\": \"\", \"orientation\": \"v\", \"showlegend\": false, \"textposition\": \"auto\", \"type\": \"bar\", \"x\": [\"YES\", \"NO\", \"YES\", \"YES\", \"YES\", \"NO\", \"YES\", \"YES\", \"NO\", \"YES\", \"YES\", \"YES\", \"YES\", \"YES\", \"YES\", \"YES\", \"YES\", \"YES\", \"YES\", \"YES\", \"YES\", \"YES\", \"YES\", \"YES\", \"YES\", \"YES\", \"YES\", \"YES\", \"YES\", \"YES\", \"NO\", \"YES\", \"YES\", \"YES\", \"YES\", \"YES\", \"YES\", \"YES\", \"YES\", \"NO\", \"YES\", \"YES\", \"NO\", \"YES\", \"YES\", \"YES\", \"YES\", \"YES\", \"YES\", \"YES\", \"YES\", \"YES\", \"YES\", \"YES\", \"YES\", \"YES\", \"YES\"], \"xaxis\": \"x\", \"y\": [\"LAB1\", \"LAB1\", \"LAB1\", \"LAB1\", \"LAB1\", \"LAB1\", \"LAB 2\", \"LAB1\", \"LAB1\", \"LAB1\", \"LAB1\", \"LAB1\", \"LAB1\", \"LAB1\", \"LAB1\", \"LAB1\", \"LAB1\", \"LAB1\", \"LAB1\", \"LAB1\", \"LAB1\", \"LAB1\", \"LAB1\", \"LAB1\", \"LAB1\", \"LAB1\", \"LAB1\", \"LAB 2\", \"LAB 2\", \"LAB 2\", \"LAB 2\", \"LAB 2\", \"LAB 2\", \"LAB 2\", \"LAB 2\", \"LAB 2\", \"LAB 2\", \"LAB 2\", \"LAB 2\", \"LAB 2\", \"LAB 2\", \"LAB 2\", \"LAB 2\", \"LAB 2\", \"LAB 2\", \"LAB 2\", \"LAB 2\", \"LAB 2\", \"LAB 2\", \"LAB 2\", \"LAB 2\", \"LAB 2\", \"LAB 2\", \"LAB 2\", \"LAB 2\", \"LAB 2\", \"LAB 2\"], \"yaxis\": \"y\"}],                        {\"barmode\": \"relative\", \"legend\": {\"tracegroupgap\": 0}, \"template\": {\"data\": {\"bar\": [{\"error_x\": {\"color\": \"#2a3f5f\"}, \"error_y\": {\"color\": \"#2a3f5f\"}, \"marker\": {\"line\": {\"color\": \"#E5ECF6\", \"width\": 0.5}}, \"type\": \"bar\"}], \"barpolar\": [{\"marker\": {\"line\": {\"color\": \"#E5ECF6\", \"width\": 0.5}}, \"type\": \"barpolar\"}], \"carpet\": [{\"aaxis\": {\"endlinecolor\": \"#2a3f5f\", \"gridcolor\": \"white\", \"linecolor\": \"white\", \"minorgridcolor\": \"white\", \"startlinecolor\": \"#2a3f5f\"}, \"baxis\": {\"endlinecolor\": \"#2a3f5f\", \"gridcolor\": \"white\", \"linecolor\": \"white\", \"minorgridcolor\": \"white\", \"startlinecolor\": \"#2a3f5f\"}, \"type\": \"carpet\"}], \"choropleth\": [{\"colorbar\": {\"outlinewidth\": 0, \"ticks\": \"\"}, \"type\": \"choropleth\"}], \"contour\": [{\"colorbar\": {\"outlinewidth\": 0, \"ticks\": \"\"}, \"colorscale\": [[0.0, \"#0d0887\"], [0.1111111111111111, \"#46039f\"], [0.2222222222222222, \"#7201a8\"], [0.3333333333333333, \"#9c179e\"], [0.4444444444444444, \"#bd3786\"], [0.5555555555555556, \"#d8576b\"], [0.6666666666666666, \"#ed7953\"], [0.7777777777777778, \"#fb9f3a\"], [0.8888888888888888, \"#fdca26\"], [1.0, \"#f0f921\"]], \"type\": \"contour\"}], \"contourcarpet\": [{\"colorbar\": {\"outlinewidth\": 0, \"ticks\": \"\"}, \"type\": \"contourcarpet\"}], \"heatmap\": [{\"colorbar\": {\"outlinewidth\": 0, \"ticks\": \"\"}, \"colorscale\": [[0.0, \"#0d0887\"], [0.1111111111111111, \"#46039f\"], [0.2222222222222222, \"#7201a8\"], [0.3333333333333333, \"#9c179e\"], [0.4444444444444444, \"#bd3786\"], [0.5555555555555556, \"#d8576b\"], [0.6666666666666666, \"#ed7953\"], [0.7777777777777778, \"#fb9f3a\"], [0.8888888888888888, \"#fdca26\"], [1.0, \"#f0f921\"]], \"type\": \"heatmap\"}], \"heatmapgl\": [{\"colorbar\": {\"outlinewidth\": 0, \"ticks\": \"\"}, \"colorscale\": [[0.0, \"#0d0887\"], [0.1111111111111111, \"#46039f\"], [0.2222222222222222, \"#7201a8\"], [0.3333333333333333, \"#9c179e\"], [0.4444444444444444, \"#bd3786\"], [0.5555555555555556, \"#d8576b\"], [0.6666666666666666, \"#ed7953\"], [0.7777777777777778, \"#fb9f3a\"], [0.8888888888888888, \"#fdca26\"], [1.0, \"#f0f921\"]], \"type\": \"heatmapgl\"}], \"histogram\": [{\"marker\": {\"colorbar\": {\"outlinewidth\": 0, \"ticks\": \"\"}}, \"type\": \"histogram\"}], \"histogram2d\": [{\"colorbar\": {\"outlinewidth\": 0, \"ticks\": \"\"}, \"colorscale\": [[0.0, \"#0d0887\"], [0.1111111111111111, \"#46039f\"], [0.2222222222222222, \"#7201a8\"], [0.3333333333333333, \"#9c179e\"], [0.4444444444444444, \"#bd3786\"], [0.5555555555555556, \"#d8576b\"], [0.6666666666666666, \"#ed7953\"], [0.7777777777777778, \"#fb9f3a\"], [0.8888888888888888, \"#fdca26\"], [1.0, \"#f0f921\"]], \"type\": \"histogram2d\"}], \"histogram2dcontour\": [{\"colorbar\": {\"outlinewidth\": 0, \"ticks\": \"\"}, \"colorscale\": [[0.0, \"#0d0887\"], [0.1111111111111111, \"#46039f\"], [0.2222222222222222, \"#7201a8\"], [0.3333333333333333, \"#9c179e\"], [0.4444444444444444, \"#bd3786\"], [0.5555555555555556, \"#d8576b\"], [0.6666666666666666, \"#ed7953\"], [0.7777777777777778, \"#fb9f3a\"], [0.8888888888888888, \"#fdca26\"], [1.0, \"#f0f921\"]], \"type\": \"histogram2dcontour\"}], \"mesh3d\": [{\"colorbar\": {\"outlinewidth\": 0, \"ticks\": \"\"}, \"type\": \"mesh3d\"}], \"parcoords\": [{\"line\": {\"colorbar\": {\"outlinewidth\": 0, \"ticks\": \"\"}}, \"type\": \"parcoords\"}], \"pie\": [{\"automargin\": true, \"type\": \"pie\"}], \"scatter\": [{\"marker\": {\"colorbar\": {\"outlinewidth\": 0, \"ticks\": \"\"}}, \"type\": \"scatter\"}], \"scatter3d\": [{\"line\": {\"colorbar\": {\"outlinewidth\": 0, \"ticks\": \"\"}}, \"marker\": {\"colorbar\": {\"outlinewidth\": 0, \"ticks\": \"\"}}, \"type\": \"scatter3d\"}], \"scattercarpet\": [{\"marker\": {\"colorbar\": {\"outlinewidth\": 0, \"ticks\": \"\"}}, \"type\": \"scattercarpet\"}], \"scattergeo\": [{\"marker\": {\"colorbar\": {\"outlinewidth\": 0, \"ticks\": \"\"}}, \"type\": \"scattergeo\"}], \"scattergl\": [{\"marker\": {\"colorbar\": {\"outlinewidth\": 0, \"ticks\": \"\"}}, \"type\": \"scattergl\"}], \"scattermapbox\": [{\"marker\": {\"colorbar\": {\"outlinewidth\": 0, \"ticks\": \"\"}}, \"type\": \"scattermapbox\"}], \"scatterpolar\": [{\"marker\": {\"colorbar\": {\"outlinewidth\": 0, \"ticks\": \"\"}}, \"type\": \"scatterpolar\"}], \"scatterpolargl\": [{\"marker\": {\"colorbar\": {\"outlinewidth\": 0, \"ticks\": \"\"}}, \"type\": \"scatterpolargl\"}], \"scatterternary\": [{\"marker\": {\"colorbar\": {\"outlinewidth\": 0, \"ticks\": \"\"}}, \"type\": \"scatterternary\"}], \"surface\": [{\"colorbar\": {\"outlinewidth\": 0, \"ticks\": \"\"}, \"colorscale\": [[0.0, \"#0d0887\"], [0.1111111111111111, \"#46039f\"], [0.2222222222222222, \"#7201a8\"], [0.3333333333333333, \"#9c179e\"], [0.4444444444444444, \"#bd3786\"], [0.5555555555555556, \"#d8576b\"], [0.6666666666666666, \"#ed7953\"], [0.7777777777777778, \"#fb9f3a\"], [0.8888888888888888, \"#fdca26\"], [1.0, \"#f0f921\"]], \"type\": \"surface\"}], \"table\": [{\"cells\": {\"fill\": {\"color\": \"#EBF0F8\"}, \"line\": {\"color\": \"white\"}}, \"header\": {\"fill\": {\"color\": \"#C8D4E3\"}, \"line\": {\"color\": \"white\"}}, \"type\": \"table\"}]}, \"layout\": {\"annotationdefaults\": {\"arrowcolor\": \"#2a3f5f\", \"arrowhead\": 0, \"arrowwidth\": 1}, \"autotypenumbers\": \"strict\", \"coloraxis\": {\"colorbar\": {\"outlinewidth\": 0, \"ticks\": \"\"}}, \"colorscale\": {\"diverging\": [[0, \"#8e0152\"], [0.1, \"#c51b7d\"], [0.2, \"#de77ae\"], [0.3, \"#f1b6da\"], [0.4, \"#fde0ef\"], [0.5, \"#f7f7f7\"], [0.6, \"#e6f5d0\"], [0.7, \"#b8e186\"], [0.8, \"#7fbc41\"], [0.9, \"#4d9221\"], [1, \"#276419\"]], \"sequential\": [[0.0, \"#0d0887\"], [0.1111111111111111, \"#46039f\"], [0.2222222222222222, \"#7201a8\"], [0.3333333333333333, \"#9c179e\"], [0.4444444444444444, \"#bd3786\"], [0.5555555555555556, \"#d8576b\"], [0.6666666666666666, \"#ed7953\"], [0.7777777777777778, \"#fb9f3a\"], [0.8888888888888888, \"#fdca26\"], [1.0, \"#f0f921\"]], \"sequentialminus\": [[0.0, \"#0d0887\"], [0.1111111111111111, \"#46039f\"], [0.2222222222222222, \"#7201a8\"], [0.3333333333333333, \"#9c179e\"], [0.4444444444444444, \"#bd3786\"], [0.5555555555555556, \"#d8576b\"], [0.6666666666666666, \"#ed7953\"], [0.7777777777777778, \"#fb9f3a\"], [0.8888888888888888, \"#fdca26\"], [1.0, \"#f0f921\"]]}, \"colorway\": [\"#636efa\", \"#EF553B\", \"#00cc96\", \"#ab63fa\", \"#FFA15A\", \"#19d3f3\", \"#FF6692\", \"#B6E880\", \"#FF97FF\", \"#FECB52\"], \"font\": {\"color\": \"#2a3f5f\"}, \"geo\": {\"bgcolor\": \"white\", \"lakecolor\": \"white\", \"landcolor\": \"#E5ECF6\", \"showlakes\": true, \"showland\": true, \"subunitcolor\": \"white\"}, \"hoverlabel\": {\"align\": \"left\"}, \"hovermode\": \"closest\", \"mapbox\": {\"style\": \"light\"}, \"paper_bgcolor\": \"white\", \"plot_bgcolor\": \"#E5ECF6\", \"polar\": {\"angularaxis\": {\"gridcolor\": \"white\", \"linecolor\": \"white\", \"ticks\": \"\"}, \"bgcolor\": \"#E5ECF6\", \"radialaxis\": {\"gridcolor\": \"white\", \"linecolor\": \"white\", \"ticks\": \"\"}}, \"scene\": {\"xaxis\": {\"backgroundcolor\": \"#E5ECF6\", \"gridcolor\": \"white\", \"gridwidth\": 2, \"linecolor\": \"white\", \"showbackground\": true, \"ticks\": \"\", \"zerolinecolor\": \"white\"}, \"yaxis\": {\"backgroundcolor\": \"#E5ECF6\", \"gridcolor\": \"white\", \"gridwidth\": 2, \"linecolor\": \"white\", \"showbackground\": true, \"ticks\": \"\", \"zerolinecolor\": \"white\"}, \"zaxis\": {\"backgroundcolor\": \"#E5ECF6\", \"gridcolor\": \"white\", \"gridwidth\": 2, \"linecolor\": \"white\", \"showbackground\": true, \"ticks\": \"\", \"zerolinecolor\": \"white\"}}, \"shapedefaults\": {\"line\": {\"color\": \"#2a3f5f\"}}, \"ternary\": {\"aaxis\": {\"gridcolor\": \"white\", \"linecolor\": \"white\", \"ticks\": \"\"}, \"baxis\": {\"gridcolor\": \"white\", \"linecolor\": \"white\", \"ticks\": \"\"}, \"bgcolor\": \"#E5ECF6\", \"caxis\": {\"gridcolor\": \"white\", \"linecolor\": \"white\", \"ticks\": \"\"}}, \"title\": {\"x\": 0.05}, \"xaxis\": {\"automargin\": true, \"gridcolor\": \"white\", \"linecolor\": \"white\", \"ticks\": \"\", \"title\": {\"standoff\": 15}, \"zerolinecolor\": \"white\", \"zerolinewidth\": 2}, \"yaxis\": {\"automargin\": true, \"gridcolor\": \"white\", \"linecolor\": \"white\", \"ticks\": \"\", \"title\": {\"standoff\": 15}, \"zerolinecolor\": \"white\", \"zerolinewidth\": 2}}}, \"title\": {\"text\": \"C/C++ In our LABS << MOST OF THEM ARE COURRUPTED>>\"}, \"xaxis\": {\"anchor\": \"y\", \"domain\": [0.0, 1.0], \"title\": {\"text\": \"C/C++\"}}, \"yaxis\": {\"anchor\": \"x\", \"domain\": [0.0, 1.0], \"title\": {\"text\": \"LAB\"}}},                        {\"responsive\": true}                    ).then(function(){\n",
       "                            \n",
       "var gd = document.getElementById('41e35ea4-9e60-4c4b-98e2-a634bd6af444');\n",
       "var x = new MutationObserver(function (mutations, observer) {{\n",
       "        var display = window.getComputedStyle(gd).display;\n",
       "        if (!display || display === 'none') {{\n",
       "            console.log([gd, 'removed!']);\n",
       "            Plotly.purge(gd);\n",
       "            observer.disconnect();\n",
       "        }}\n",
       "}});\n",
       "\n",
       "// Listen for the removal of the full notebook cells\n",
       "var notebookContainer = gd.closest('#notebook-container');\n",
       "if (notebookContainer) {{\n",
       "    x.observe(notebookContainer, {childList: true});\n",
       "}}\n",
       "\n",
       "// Listen for the clearing of the current output cell\n",
       "var outputEl = gd.closest('.output');\n",
       "if (outputEl) {{\n",
       "    x.observe(outputEl, {childList: true});\n",
       "}}\n",
       "\n",
       "                        })                };                });            </script>        </div>"
      ]
     },
     "metadata": {},
     "output_type": "display_data"
    }
   ],
   "source": [
    "fig = px.bar(df, x='C/C++', y ='LAB',hover_name='WINDOWS', title='C/C++ In our LABS << MOST OF THEM ARE COURRUPTED>>')\n",
    "fig.show()"
   ]
  }
 ],
 "metadata": {
  "kernelspec": {
   "display_name": "Python 3",
   "language": "python",
   "name": "python3"
  },
  "language_info": {
   "codemirror_mode": {
    "name": "ipython",
    "version": 3
   },
   "file_extension": ".py",
   "mimetype": "text/x-python",
   "name": "python",
   "nbconvert_exporter": "python",
   "pygments_lexer": "ipython3",
   "version": "3.8.8"
  }
 },
 "nbformat": 4,
 "nbformat_minor": 5
}
